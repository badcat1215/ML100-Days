{
 "cells": [
  {
   "cell_type": "markdown",
   "metadata": {},
   "source": [
    "## Work\n",
    "1. 請嘗試將 preproc_x 替換成以每筆資料的 min/max 進行標準化至 -1 ~ 1 間，再進行訓練\n",
    "2. 請嘗試將 mlp 疊更深 (e.g 5~10 層)，進行訓練後觀察 learning curve 的走勢\n",
    "3. (optional) 請改用 GPU 進行訓練 (如果你有 GPU 的話)，比較使用 CPU 與 GPU 的訓練速度"
   ]
  },
  {
   "cell_type": "code",
   "execution_count": 77,
   "metadata": {
    "scrolled": false
   },
   "outputs": [
    {
     "name": "stderr",
     "output_type": "stream",
     "text": [
      "'nvidia-smi' 不是內部或外部命令、可執行的程式或批次檔。\n"
     ]
    }
   ],
   "source": [
    "## 確認硬體資源\n",
    "!nvidia-smi"
   ]
  },
  {
   "cell_type": "code",
   "execution_count": 78,
   "metadata": {},
   "outputs": [],
   "source": [
    "import os\n",
    "import keras\n",
    "import numpy as np\n",
    "# Try to enable GPU (optional)\n"
   ]
  },
  {
   "cell_type": "code",
   "execution_count": 79,
   "metadata": {},
   "outputs": [],
   "source": [
    "train, test = keras.datasets.cifar10.load_data()"
   ]
  },
  {
   "cell_type": "code",
   "execution_count": 80,
   "metadata": {},
   "outputs": [],
   "source": [
    "## 資料前處理\n",
    "\"\"\"\n",
    "Your code here\n",
    "\"\"\"\n",
    "def preproc_x(x, flatten=True):\n",
    "    x = (x - x.min(axis=0)) / (x.max(axis=0) - x.min(axis=0)) * 2 - 1\n",
    "    if flatten:\n",
    "        x = x.reshape((len(x),-1))\n",
    "    return x\n",
    "\n",
    "def preproc_y(y, num_classes=10):\n",
    "    if y.shape[-1] == 1:\n",
    "        y = keras.utils.to_categorical(y, num_classes)\n",
    "    return y"
   ]
  },
  {
   "cell_type": "code",
   "execution_count": 81,
   "metadata": {},
   "outputs": [],
   "source": [
    "x_train, y_train = train\n",
    "x_test, y_test = test\n",
    "\n",
    "# Preproc the inputs\n",
    "x_train = preproc_x(x_train)\n",
    "x_test = preproc_x(x_test)\n",
    "\n",
    "# Preprc the outputs\n",
    "y_train = preproc_y(y_train)\n",
    "y_test = preproc_y(y_test)"
   ]
  },
  {
   "cell_type": "code",
   "execution_count": 82,
   "metadata": {},
   "outputs": [],
   "source": [
    "Dense = keras.layers.Dense\n",
    "def build_mlp(input_shape, output_units=10, num_neurons=[512, 256, 128, 64, 32]):\n",
    "    input_layer = keras.layers.Input(input_shape)\n",
    "    \n",
    "    for i, n_units in enumerate(num_neurons):\n",
    "        if i == 0:\n",
    "            x = Dense(units=n_units, activation=\"relu\", name=\"hidden_layer\"+str(i))(input_layer)\n",
    "        else:\n",
    "            x = Dense(units=n_units, activation=\"relu\", name=\"hidden_layer\"+str(i))(x)\n",
    "\n",
    "    out = Dense(units=output_units, activation=\"softmax\", name=\"output\")(x)\n",
    "    \n",
    "    model = keras.models.Model(inputs=[input_layer],outputs=[out])\n",
    "    return model"
   ]
  },
  {
   "cell_type": "code",
   "execution_count": 83,
   "metadata": {},
   "outputs": [
    {
     "name": "stdout",
     "output_type": "stream",
     "text": [
      "_________________________________________________________________\n",
      "Layer (type)                 Output Shape              Param #   \n",
      "=================================================================\n",
      "input_4 (InputLayer)         (None, 3072)              0         \n",
      "_________________________________________________________________\n",
      "hidden_layer0 (Dense)        (None, 512)               1573376   \n",
      "_________________________________________________________________\n",
      "hidden_layer1 (Dense)        (None, 256)               131328    \n",
      "_________________________________________________________________\n",
      "hidden_layer2 (Dense)        (None, 128)               32896     \n",
      "_________________________________________________________________\n",
      "hidden_layer3 (Dense)        (None, 64)                8256      \n",
      "_________________________________________________________________\n",
      "hidden_layer4 (Dense)        (None, 32)                2080      \n",
      "_________________________________________________________________\n",
      "output (Dense)               (None, 10)                330       \n",
      "=================================================================\n",
      "Total params: 1,748,266\n",
      "Trainable params: 1,748,266\n",
      "Non-trainable params: 0\n",
      "_________________________________________________________________\n"
     ]
    }
   ],
   "source": [
    "model = build_mlp(input_shape=x_train.shape[1:])\n",
    "model.summary()"
   ]
  },
  {
   "cell_type": "code",
   "execution_count": 84,
   "metadata": {},
   "outputs": [],
   "source": [
    "## 超參數設定\n",
    "LEARNING_RATE = 0.001\n",
    "EPOCHS = 100\n",
    "BATCH_SIZE = 256"
   ]
  },
  {
   "cell_type": "code",
   "execution_count": 85,
   "metadata": {},
   "outputs": [],
   "source": [
    "optimizer = keras.optimizers.Adam(lr=LEARNING_RATE)\n",
    "model.compile(loss=\"categorical_crossentropy\", metrics=[\"accuracy\"], optimizer=optimizer)"
   ]
  },
  {
   "cell_type": "code",
   "execution_count": 86,
   "metadata": {},
   "outputs": [
    {
     "name": "stdout",
     "output_type": "stream",
     "text": [
      "Train on 50000 samples, validate on 10000 samples\n",
      "Epoch 1/100\n",
      "50000/50000 [==============================] - 8s 161us/step - loss: 1.7256 - acc: 0.3857 - val_loss: 1.5438 - val_acc: 0.4566\n",
      "Epoch 2/100\n",
      "50000/50000 [==============================] - 8s 150us/step - loss: 1.4898 - acc: 0.4750 - val_loss: 1.4575 - val_acc: 0.4843\n",
      "Epoch 3/100\n",
      "50000/50000 [==============================] - 8s 153us/step - loss: 1.3807 - acc: 0.5148 - val_loss: 1.3977 - val_acc: 0.5107\n",
      "Epoch 4/100\n",
      "50000/50000 [==============================] - 8s 151us/step - loss: 1.2741 - acc: 0.5521 - val_loss: 1.3944 - val_acc: 0.5092\n",
      "Epoch 5/100\n",
      "50000/50000 [==============================] - 8s 152us/step - loss: 1.2074 - acc: 0.5741 - val_loss: 1.3902 - val_acc: 0.5221\n",
      "Epoch 6/100\n",
      "50000/50000 [==============================] - 8s 156us/step - loss: 1.1212 - acc: 0.6038 - val_loss: 1.3713 - val_acc: 0.5266\n",
      "Epoch 7/100\n",
      "50000/50000 [==============================] - 8s 155us/step - loss: 1.0521 - acc: 0.6287 - val_loss: 1.4011 - val_acc: 0.5200\n",
      "Epoch 8/100\n",
      "50000/50000 [==============================] - 7s 147us/step - loss: 0.9770 - acc: 0.6552 - val_loss: 1.4111 - val_acc: 0.5333\n",
      "Epoch 9/100\n",
      "50000/50000 [==============================] - 7s 145us/step - loss: 0.9080 - acc: 0.6793 - val_loss: 1.4394 - val_acc: 0.5318\n",
      "Epoch 10/100\n",
      "50000/50000 [==============================] - 7s 150us/step - loss: 0.8340 - acc: 0.7041 - val_loss: 1.4678 - val_acc: 0.5309\n",
      "Epoch 11/100\n",
      "50000/50000 [==============================] - 7s 147us/step - loss: 0.7628 - acc: 0.7306 - val_loss: 1.5347 - val_acc: 0.5351\n",
      "Epoch 12/100\n",
      "50000/50000 [==============================] - 7s 144us/step - loss: 0.7007 - acc: 0.7520 - val_loss: 1.5598 - val_acc: 0.5345\n",
      "Epoch 13/100\n",
      "50000/50000 [==============================] - 7s 146us/step - loss: 0.6440 - acc: 0.7726 - val_loss: 1.6792 - val_acc: 0.5249\n",
      "Epoch 14/100\n",
      "50000/50000 [==============================] - 7s 143us/step - loss: 0.5869 - acc: 0.7926 - val_loss: 1.6841 - val_acc: 0.5267\n",
      "Epoch 15/100\n",
      "50000/50000 [==============================] - 8s 153us/step - loss: 0.5448 - acc: 0.8073 - val_loss: 1.7264 - val_acc: 0.5344\n",
      "Epoch 16/100\n",
      "50000/50000 [==============================] - 8s 155us/step - loss: 0.4911 - acc: 0.8271 - val_loss: 1.8983 - val_acc: 0.5299\n",
      "Epoch 17/100\n",
      "50000/50000 [==============================] - 8s 156us/step - loss: 0.4549 - acc: 0.8393 - val_loss: 1.9728 - val_acc: 0.5294\n",
      "Epoch 18/100\n",
      "50000/50000 [==============================] - 8s 154us/step - loss: 0.4189 - acc: 0.8528 - val_loss: 1.9968 - val_acc: 0.5334\n",
      "Epoch 19/100\n",
      "50000/50000 [==============================] - 8s 157us/step - loss: 0.3820 - acc: 0.8657 - val_loss: 2.1189 - val_acc: 0.5213\n",
      "Epoch 20/100\n",
      "50000/50000 [==============================] - 8s 153us/step - loss: 0.3568 - acc: 0.8732 - val_loss: 2.2819 - val_acc: 0.5234\n",
      "Epoch 21/100\n",
      "50000/50000 [==============================] - 8s 154us/step - loss: 0.3280 - acc: 0.8849 - val_loss: 2.3509 - val_acc: 0.5202\n",
      "Epoch 22/100\n",
      "50000/50000 [==============================] - 8s 166us/step - loss: 0.3050 - acc: 0.8944 - val_loss: 2.3870 - val_acc: 0.5266\n",
      "Epoch 23/100\n",
      "50000/50000 [==============================] - 8s 151us/step - loss: 0.2988 - acc: 0.8952 - val_loss: 2.5449 - val_acc: 0.5280\n",
      "Epoch 24/100\n",
      "50000/50000 [==============================] - 7s 149us/step - loss: 0.2832 - acc: 0.9020 - val_loss: 2.5064 - val_acc: 0.5258\n",
      "Epoch 25/100\n",
      "50000/50000 [==============================] - 7s 145us/step - loss: 0.2455 - acc: 0.9140 - val_loss: 2.6584 - val_acc: 0.5264\n",
      "Epoch 26/100\n",
      "50000/50000 [==============================] - 7s 146us/step - loss: 0.2369 - acc: 0.9172 - val_loss: 2.7056 - val_acc: 0.5353\n",
      "Epoch 27/100\n",
      "50000/50000 [==============================] - 8s 154us/step - loss: 0.2280 - acc: 0.9215 - val_loss: 2.7750 - val_acc: 0.5290\n",
      "Epoch 28/100\n",
      "50000/50000 [==============================] - 8s 162us/step - loss: 0.2309 - acc: 0.9204 - val_loss: 2.8043 - val_acc: 0.5247\n",
      "Epoch 29/100\n",
      "50000/50000 [==============================] - 8s 161us/step - loss: 0.2237 - acc: 0.9230 - val_loss: 2.8053 - val_acc: 0.5246\n",
      "Epoch 30/100\n",
      "50000/50000 [==============================] - 7s 149us/step - loss: 0.2054 - acc: 0.9285 - val_loss: 2.9718 - val_acc: 0.5309\n",
      "Epoch 31/100\n",
      "50000/50000 [==============================] - 7s 145us/step - loss: 0.1703 - acc: 0.9418 - val_loss: 3.0855 - val_acc: 0.5190\n",
      "Epoch 32/100\n",
      "50000/50000 [==============================] - 7s 145us/step - loss: 0.1779 - acc: 0.9374 - val_loss: 3.0980 - val_acc: 0.5254\n",
      "Epoch 33/100\n",
      "50000/50000 [==============================] - 7s 147us/step - loss: 0.1782 - acc: 0.9395 - val_loss: 3.1288 - val_acc: 0.5294\n",
      "Epoch 34/100\n",
      "50000/50000 [==============================] - 7s 147us/step - loss: 0.1681 - acc: 0.9429 - val_loss: 3.1439 - val_acc: 0.5300\n",
      "Epoch 35/100\n",
      "50000/50000 [==============================] - 7s 147us/step - loss: 0.1713 - acc: 0.9403 - val_loss: 3.0565 - val_acc: 0.5305\n",
      "Epoch 36/100\n",
      "50000/50000 [==============================] - 7s 144us/step - loss: 0.1701 - acc: 0.9422 - val_loss: 3.0960 - val_acc: 0.5289\n",
      "Epoch 37/100\n",
      "50000/50000 [==============================] - 7s 146us/step - loss: 0.1681 - acc: 0.9422 - val_loss: 3.1434 - val_acc: 0.5227\n",
      "Epoch 38/100\n",
      "50000/50000 [==============================] - 7s 148us/step - loss: 0.1353 - acc: 0.9540 - val_loss: 3.2716 - val_acc: 0.5290\n",
      "Epoch 39/100\n",
      "50000/50000 [==============================] - 7s 144us/step - loss: 0.1541 - acc: 0.9476 - val_loss: 3.2872 - val_acc: 0.5198\n",
      "Epoch 40/100\n",
      "50000/50000 [==============================] - 7s 146us/step - loss: 0.1412 - acc: 0.9524 - val_loss: 3.4430 - val_acc: 0.5246\n",
      "Epoch 41/100\n",
      "50000/50000 [==============================] - 8s 155us/step - loss: 0.1308 - acc: 0.9560 - val_loss: 3.4163 - val_acc: 0.5184\n",
      "Epoch 42/100\n",
      "50000/50000 [==============================] - 8s 151us/step - loss: 0.1522 - acc: 0.9491 - val_loss: 3.2242 - val_acc: 0.5271\n",
      "Epoch 43/100\n",
      "50000/50000 [==============================] - 7s 147us/step - loss: 0.1429 - acc: 0.9509 - val_loss: 3.4027 - val_acc: 0.5263\n",
      "Epoch 44/100\n",
      "50000/50000 [==============================] - 8s 151us/step - loss: 0.1158 - acc: 0.9606 - val_loss: 3.4984 - val_acc: 0.5213\n",
      "Epoch 45/100\n",
      "50000/50000 [==============================] - 7s 150us/step - loss: 0.1337 - acc: 0.9557 - val_loss: 3.3949 - val_acc: 0.5280\n",
      "Epoch 46/100\n",
      "50000/50000 [==============================] - 8s 150us/step - loss: 0.1369 - acc: 0.9538 - val_loss: 3.4427 - val_acc: 0.5282\n",
      "Epoch 47/100\n",
      "50000/50000 [==============================] - 7s 146us/step - loss: 0.1257 - acc: 0.9573 - val_loss: 3.5300 - val_acc: 0.5210\n",
      "Epoch 48/100\n",
      "50000/50000 [==============================] - 7s 144us/step - loss: 0.1442 - acc: 0.9524 - val_loss: 3.3884 - val_acc: 0.5243\n",
      "Epoch 49/100\n",
      "50000/50000 [==============================] - 7s 144us/step - loss: 0.1051 - acc: 0.9651 - val_loss: 3.5886 - val_acc: 0.5232\n",
      "Epoch 50/100\n",
      "50000/50000 [==============================] - 7s 144us/step - loss: 0.1140 - acc: 0.9623 - val_loss: 3.5226 - val_acc: 0.5210\n",
      "Epoch 51/100\n",
      "50000/50000 [==============================] - 7s 145us/step - loss: 0.0971 - acc: 0.9665 - val_loss: 3.6554 - val_acc: 0.5338\n",
      "Epoch 52/100\n",
      "50000/50000 [==============================] - 7s 142us/step - loss: 0.1168 - acc: 0.9604 - val_loss: 3.6615 - val_acc: 0.5225\n",
      "Epoch 53/100\n",
      "50000/50000 [==============================] - 7s 140us/step - loss: 0.1176 - acc: 0.9621 - val_loss: 3.6558 - val_acc: 0.5189\n",
      "Epoch 54/100\n",
      "50000/50000 [==============================] - 8s 154us/step - loss: 0.1216 - acc: 0.9594 - val_loss: 3.5369 - val_acc: 0.5350\n",
      "Epoch 55/100\n",
      "50000/50000 [==============================] - 7s 143us/step - loss: 0.0847 - acc: 0.9711 - val_loss: 3.6450 - val_acc: 0.5276\n",
      "Epoch 56/100\n",
      "50000/50000 [==============================] - 7s 148us/step - loss: 0.1109 - acc: 0.9630 - val_loss: 3.6906 - val_acc: 0.5257\n",
      "Epoch 57/100\n",
      "50000/50000 [==============================] - 7s 150us/step - loss: 0.1208 - acc: 0.9596 - val_loss: 3.5991 - val_acc: 0.5285\n",
      "Epoch 58/100\n",
      "50000/50000 [==============================] - 7s 146us/step - loss: 0.1043 - acc: 0.9661 - val_loss: 3.7011 - val_acc: 0.5332\n",
      "Epoch 59/100\n"
     ]
    },
    {
     "name": "stdout",
     "output_type": "stream",
     "text": [
      "50000/50000 [==============================] - 7s 145us/step - loss: 0.0890 - acc: 0.9700 - val_loss: 3.8331 - val_acc: 0.5248\n",
      "Epoch 60/100\n",
      "50000/50000 [==============================] - 7s 146us/step - loss: 0.0974 - acc: 0.9674 - val_loss: 3.8809 - val_acc: 0.5286\n",
      "Epoch 61/100\n",
      "50000/50000 [==============================] - 7s 147us/step - loss: 0.1073 - acc: 0.9655 - val_loss: 3.7089 - val_acc: 0.5237\n",
      "Epoch 62/100\n",
      "50000/50000 [==============================] - 7s 145us/step - loss: 0.1060 - acc: 0.9650 - val_loss: 3.7851 - val_acc: 0.5189\n",
      "Epoch 63/100\n",
      "50000/50000 [==============================] - 8s 152us/step - loss: 0.0778 - acc: 0.9742 - val_loss: 3.7723 - val_acc: 0.5308\n",
      "Epoch 64/100\n",
      "50000/50000 [==============================] - 7s 147us/step - loss: 0.0889 - acc: 0.9712 - val_loss: 3.8156 - val_acc: 0.5305\n",
      "Epoch 65/100\n",
      "50000/50000 [==============================] - 8s 154us/step - loss: 0.1109 - acc: 0.9635 - val_loss: 3.6293 - val_acc: 0.5263\n",
      "Epoch 66/100\n",
      "50000/50000 [==============================] - 7s 148us/step - loss: 0.0904 - acc: 0.9701 - val_loss: 3.6664 - val_acc: 0.5290\n",
      "Epoch 67/100\n",
      "50000/50000 [==============================] - 8s 161us/step - loss: 0.0778 - acc: 0.9736 - val_loss: 3.8017 - val_acc: 0.5239\n",
      "Epoch 68/100\n",
      "50000/50000 [==============================] - 7s 148us/step - loss: 0.0886 - acc: 0.9707 - val_loss: 3.8711 - val_acc: 0.5252\n",
      "Epoch 69/100\n",
      "50000/50000 [==============================] - 8s 157us/step - loss: 0.1087 - acc: 0.9647 - val_loss: 3.7997 - val_acc: 0.5231\n",
      "Epoch 70/100\n",
      "50000/50000 [==============================] - 8s 167us/step - loss: 0.0924 - acc: 0.9699 - val_loss: 3.8052 - val_acc: 0.5280\n",
      "Epoch 71/100\n",
      "50000/50000 [==============================] - 7s 147us/step - loss: 0.0888 - acc: 0.9712 - val_loss: 3.9377 - val_acc: 0.5178\n",
      "Epoch 72/100\n",
      "50000/50000 [==============================] - 7s 144us/step - loss: 0.0898 - acc: 0.9698 - val_loss: 3.8593 - val_acc: 0.5296\n",
      "Epoch 73/100\n",
      "50000/50000 [==============================] - 7s 147us/step - loss: 0.0850 - acc: 0.9718 - val_loss: 3.8697 - val_acc: 0.5325\n",
      "Epoch 74/100\n",
      "50000/50000 [==============================] - 7s 147us/step - loss: 0.0753 - acc: 0.9748 - val_loss: 3.9016 - val_acc: 0.5298\n",
      "Epoch 75/100\n",
      "50000/50000 [==============================] - 7s 143us/step - loss: 0.0742 - acc: 0.9763 - val_loss: 3.9955 - val_acc: 0.5281\n",
      "Epoch 76/100\n",
      "50000/50000 [==============================] - 7s 145us/step - loss: 0.0877 - acc: 0.9713 - val_loss: 3.8272 - val_acc: 0.5258\n",
      "Epoch 77/100\n",
      "50000/50000 [==============================] - 7s 142us/step - loss: 0.0914 - acc: 0.9717 - val_loss: 3.9478 - val_acc: 0.5244\n",
      "Epoch 78/100\n",
      "50000/50000 [==============================] - 7s 144us/step - loss: 0.1009 - acc: 0.9667 - val_loss: 3.8816 - val_acc: 0.5316\n",
      "Epoch 79/100\n",
      "50000/50000 [==============================] - 7s 144us/step - loss: 0.0593 - acc: 0.9809 - val_loss: 3.9872 - val_acc: 0.5290\n",
      "Epoch 80/100\n",
      "50000/50000 [==============================] - 7s 144us/step - loss: 0.0686 - acc: 0.9778 - val_loss: 3.9860 - val_acc: 0.5262\n",
      "Epoch 81/100\n",
      "50000/50000 [==============================] - 7s 148us/step - loss: 0.0811 - acc: 0.9742 - val_loss: 3.9769 - val_acc: 0.5243\n",
      "Epoch 82/100\n",
      "50000/50000 [==============================] - 7s 145us/step - loss: 0.0892 - acc: 0.9711 - val_loss: 3.9213 - val_acc: 0.5246\n",
      "Epoch 83/100\n",
      "50000/50000 [==============================] - 7s 143us/step - loss: 0.0791 - acc: 0.9738 - val_loss: 3.9458 - val_acc: 0.5212\n",
      "Epoch 84/100\n",
      "50000/50000 [==============================] - 8s 153us/step - loss: 0.0752 - acc: 0.9753 - val_loss: 3.9464 - val_acc: 0.5289\n",
      "Epoch 85/100\n",
      "50000/50000 [==============================] - 8s 159us/step - loss: 0.0773 - acc: 0.9752 - val_loss: 3.9611 - val_acc: 0.5126\n",
      "Epoch 86/100\n",
      "50000/50000 [==============================] - 8s 155us/step - loss: 0.0831 - acc: 0.9731 - val_loss: 3.9161 - val_acc: 0.5304\n",
      "Epoch 87/100\n",
      "50000/50000 [==============================] - 7s 146us/step - loss: 0.0616 - acc: 0.9798 - val_loss: 4.0165 - val_acc: 0.5330\n",
      "Epoch 88/100\n",
      "50000/50000 [==============================] - 7s 144us/step - loss: 0.0663 - acc: 0.9783 - val_loss: 4.1016 - val_acc: 0.5301\n",
      "Epoch 89/100\n",
      "50000/50000 [==============================] - 7s 149us/step - loss: 0.0655 - acc: 0.9790 - val_loss: 3.9650 - val_acc: 0.5207\n",
      "Epoch 90/100\n",
      "50000/50000 [==============================] - 8s 157us/step - loss: 0.0683 - acc: 0.9786 - val_loss: 4.0653 - val_acc: 0.5208\n",
      "Epoch 91/100\n",
      "50000/50000 [==============================] - 7s 146us/step - loss: 0.0748 - acc: 0.9763 - val_loss: 4.0133 - val_acc: 0.5194\n",
      "Epoch 92/100\n",
      "50000/50000 [==============================] - 7s 145us/step - loss: 0.0736 - acc: 0.9765 - val_loss: 3.9490 - val_acc: 0.5264\n",
      "Epoch 93/100\n",
      "50000/50000 [==============================] - 7s 148us/step - loss: 0.0565 - acc: 0.9818 - val_loss: 4.2005 - val_acc: 0.5199\n",
      "Epoch 94/100\n",
      "50000/50000 [==============================] - 8s 151us/step - loss: 0.0837 - acc: 0.9731 - val_loss: 4.0784 - val_acc: 0.5288\n",
      "Epoch 95/100\n",
      "50000/50000 [==============================] - 8s 153us/step - loss: 0.0907 - acc: 0.9711 - val_loss: 3.9181 - val_acc: 0.5254\n",
      "Epoch 96/100\n",
      "50000/50000 [==============================] - 8s 156us/step - loss: 0.0515 - acc: 0.9832 - val_loss: 4.0799 - val_acc: 0.5344\n",
      "Epoch 97/100\n",
      "50000/50000 [==============================] - 7s 149us/step - loss: 0.0577 - acc: 0.9810 - val_loss: 4.1312 - val_acc: 0.5246\n",
      "Epoch 98/100\n",
      "50000/50000 [==============================] - 7s 145us/step - loss: 0.0697 - acc: 0.9781 - val_loss: 4.0882 - val_acc: 0.5186\n",
      "Epoch 99/100\n",
      "50000/50000 [==============================] - 8s 151us/step - loss: 0.0887 - acc: 0.9722 - val_loss: 4.0365 - val_acc: 0.5249\n",
      "Epoch 100/100\n",
      "50000/50000 [==============================] - 7s 147us/step - loss: 0.0673 - acc: 0.9784 - val_loss: 4.1089 - val_acc: 0.5325\n"
     ]
    },
    {
     "data": {
      "text/plain": [
       "<keras.callbacks.History at 0x1ce4bc88>"
      ]
     },
     "execution_count": 86,
     "metadata": {},
     "output_type": "execute_result"
    }
   ],
   "source": [
    "model.fit(x_train, y_train, \n",
    "          epochs=EPOCHS, \n",
    "          batch_size=BATCH_SIZE, \n",
    "          validation_data=(x_test, y_test), \n",
    "          shuffle=True)"
   ]
  },
  {
   "cell_type": "code",
   "execution_count": 88,
   "metadata": {},
   "outputs": [
    {
     "data": {
      "image/png": "[encoded data removed]",
      "text/plain": [
       "<Figure size 432x288 with 1 Axes>"
      ]
     },
     "metadata": {
      "needs_background": "light"
     },
     "output_type": "display_data"
    },
    {
     "data": {
      "image/png": "[encoded data removed]",
      "text/plain": [
       "<Figure size 432x288 with 1 Axes>"
      ]
     },
     "metadata": {
      "needs_background": "light"
     },
     "output_type": "display_data"
    }
   ],
   "source": [
    "import matplotlib.pyplot as plt\n",
    "\n",
    "\n",
    "train_loss = model.history.history[\"loss\"]\n",
    "valid_loss = model.history.history[\"val_loss\"]\n",
    "\n",
    "train_acc = model.history.history[\"acc\"]\n",
    "valid_acc = model.history.history[\"val_acc\"]\n",
    "\n",
    "plt.plot(range(len(train_loss)), train_loss, label=\"train loss\")\n",
    "plt.plot(range(len(valid_loss)), valid_loss, label=\"valid loss\")\n",
    "plt.legend()\n",
    "plt.title(\"Loss\")\n",
    "plt.show()\n",
    "\n",
    "plt.plot(range(len(train_acc)), train_acc, label=\"train accuracy\")\n",
    "plt.plot(range(len(valid_acc)), valid_acc, label=\"valid accuracy\")\n",
    "plt.legend()\n",
    "plt.title(\"Accuracy\")\n",
    "plt.show()"
   ]
  },
  {
   "cell_type": "code",
   "execution_count": null,
   "metadata": {},
   "outputs": [],
   "source": []
  }
 ],
 "metadata": {
  "kernelspec": {
   "display_name": "Python 3",
   "language": "python",
   "name": "python3"
  },
  "language_info": {
   "codemirror_mode": {
    "name": "ipython",
    "version": 3
   },
   "file_extension": ".py",
   "mimetype": "text/x-python",
   "name": "python",
   "nbconvert_exporter": "python",
   "pygments_lexer": "ipython3",
   "version": "3.7.1"
  }
 },
 "nbformat": 4,
 "nbformat_minor": 2
}
