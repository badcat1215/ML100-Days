{
 "cells": [
  {
   "cell_type": "markdown",
   "metadata": {},
   "source": [
    "## 練習時間\n",
    "參考 Day 12 範例程式，離散化你覺得有興趣的欄位，並嘗試找出有趣的訊息"
   ]
  },
  {
   "cell_type": "code",
   "execution_count": 27,
   "metadata": {},
   "outputs": [],
   "source": [
    "# Import 需要的套件\n",
    "import os\n",
    "import numpy as np\n",
    "import pandas as pd\n",
    "\n",
    "import matplotlib.pyplot as plt\n",
    "%matplotlib inline"
   ]
  },
  {
   "cell_type": "markdown",
   "metadata": {},
   "source": [
    "### 之前做過的處理"
   ]
  },
  {
   "cell_type": "code",
   "execution_count": 28,
   "metadata": {},
   "outputs": [],
   "source": [
    "# 設定 data_path\n",
    "dir_data = '../Part01/'\n",
    "f_app_train = os.path.join(dir_data, 'application_train.csv')\n",
    "f_app_test = os.path.join(dir_data, 'application_test.csv')\n",
    "\n",
    "app_train = pd.read_csv(f_app_train)\n",
    "app_test = pd.read_csv(f_app_test)\n",
    "\n",
    "from sklearn.preprocessing import LabelEncoder\n",
    "\n",
    "# Create a label encoder object\n",
    "le = LabelEncoder()\n",
    "le_count = 0\n",
    "\n",
    "# Iterate through the columns\n",
    "for col in app_train:\n",
    "    if app_train[col].dtype == 'object':\n",
    "        # If 2 or fewer unique categories\n",
    "        if len(list(app_train[col].unique())) <= 2:\n",
    "            # Train on the training data\n",
    "            le.fit(app_train[col])\n",
    "            # Transform both training and testing data\n",
    "            app_train[col] = le.transform(app_train[col])\n",
    "            app_test[col] = le.transform(app_test[col])\n",
    "            \n",
    "            # Keep track of how many columns were label encoded\n",
    "            le_count += 1\n",
    "            \n",
    "app_train = pd.get_dummies(app_train)\n",
    "app_test = pd.get_dummies(app_test)\n",
    "\n",
    "# Create an anomalous flag column\n",
    "app_train['DAYS_EMPLOYED_ANOM'] = app_train[\"DAYS_EMPLOYED\"] == 365243\n",
    "app_train['DAYS_EMPLOYED'].replace({365243: np.nan}, inplace = True)\n",
    "# also apply to testing dataset\n",
    "app_test['DAYS_EMPLOYED_ANOM'] = app_test[\"DAYS_EMPLOYED\"] == 365243\n",
    "app_test[\"DAYS_EMPLOYED\"].replace({365243: np.nan}, inplace = True)\n",
    "\n",
    "# absolute the value of DAYS_BIRTH\n",
    "app_train['DAYS_BIRTH'] = abs(app_train['DAYS_BIRTH'])\n",
    "app_test['DAYS_BIRTH'] = abs(app_test['DAYS_BIRTH'])"
   ]
  },
  {
   "cell_type": "markdown",
   "metadata": {
    "collapsed": true
   },
   "source": [
    "## 離散化AMT_INCOME_TOTAL"
   ]
  },
  {
   "cell_type": "code",
   "execution_count": 29,
   "metadata": {},
   "outputs": [],
   "source": [
    "#等寬劃分\n",
    "app_train['equal_width_INCOME'] = pd.cut(app_train['AMT_INCOME_TOTAL'],8)"
   ]
  },
  {
   "cell_type": "code",
   "execution_count": 30,
   "metadata": {},
   "outputs": [
    {
     "data": {
      "text/plain": [
       "(-91324.35, 14647443.75]       307509\n",
       "(102378206.25, 117000000.0]         1\n",
       "(14647443.75, 29269237.5]           1\n",
       "(87756412.5, 102378206.25]          0\n",
       "(73134618.75, 87756412.5]           0\n",
       "(58512825.0, 73134618.75]           0\n",
       "(43891031.25, 58512825.0]           0\n",
       "(29269237.5, 43891031.25]           0\n",
       "Name: equal_width_INCOME, dtype: int64"
      ]
     },
     "execution_count": 30,
     "metadata": {},
     "output_type": "execute_result"
    }
   ],
   "source": [
    "app_train['equal_width_INCOME'].value_counts()"
   ]
  },
  {
   "cell_type": "code",
   "execution_count": 31,
   "metadata": {},
   "outputs": [],
   "source": [
    "#等頻劃分\n",
    "app_train['equal_freq_INCOME'] = pd.qcut(app_train['AMT_INCOME_TOTAL'],8)"
   ]
  },
  {
   "cell_type": "code",
   "execution_count": 32,
   "metadata": {},
   "outputs": [
    {
     "data": {
      "text/plain": [
       "(147150.0, 180000.0]       61824\n",
       "(25649.999, 90000.0]       57922\n",
       "(112500.0, 135000.0]       48849\n",
       "(90000.0, 112500.0]        42656\n",
       "(261000.0, 117000000.0]    38184\n",
       "(202500.0, 261000.0]       33354\n",
       "(180000.0, 202500.0]       20389\n",
       "(135000.0, 147150.0]        4333\n",
       "Name: equal_freq_INCOME, dtype: int64"
      ]
     },
     "execution_count": 32,
     "metadata": {},
     "output_type": "execute_result"
    }
   ],
   "source": [
    "app_train['equal_freq_INCOME'].value_counts()"
   ]
  },
  {
   "cell_type": "code",
   "execution_count": 33,
   "metadata": {},
   "outputs": [],
   "source": [
    "#自訂義\n",
    "app_train['customized_INCOME'] = pd.cut(app_train['AMT_INCOME_TOTAL'],[25000,50000,100000,150000,200000,250000,300000,200000000])"
   ]
  },
  {
   "cell_type": "code",
   "execution_count": 34,
   "metadata": {},
   "outputs": [
    {
     "data": {
      "text/plain": [
       "(100000, 150000]       91591\n",
       "(150000, 200000]       64307\n",
       "(50000, 100000]        59181\n",
       "(200000, 250000]       48137\n",
       "(300000, 200000000]    22739\n",
       "(250000, 300000]       17039\n",
       "(25000, 50000]          4517\n",
       "Name: customized_INCOME, dtype: int64"
      ]
     },
     "execution_count": 34,
     "metadata": {},
     "output_type": "execute_result"
    }
   ],
   "source": [
    "app_train['customized_INCOME'].value_counts()"
   ]
  },
  {
   "cell_type": "code",
   "execution_count": 35,
   "metadata": {},
   "outputs": [
    {
     "data": {
      "text/html": [
       "<div>\n",
       "<style scoped>\n",
       "    .dataframe tbody tr th:only-of-type {\n",
       "        vertical-align: middle;\n",
       "    }\n",
       "\n",
       "    .dataframe tbody tr th {\n",
       "        vertical-align: top;\n",
       "    }\n",
       "\n",
       "    .dataframe thead th {\n",
       "        text-align: right;\n",
       "    }\n",
       "</style>\n",
       "<table border=\"1\" class=\"dataframe\">\n",
       "  <thead>\n",
       "    <tr style=\"text-align: right;\">\n",
       "      <th></th>\n",
       "      <th>AMT_INCOME_TOTAL</th>\n",
       "      <th>equal_width_INCOME</th>\n",
       "      <th>equal_freq_INCOME</th>\n",
       "      <th>customized_INCOME</th>\n",
       "    </tr>\n",
       "  </thead>\n",
       "  <tbody>\n",
       "    <tr>\n",
       "      <th>0</th>\n",
       "      <td>202500.0</td>\n",
       "      <td>(-91324.35, 14647443.75]</td>\n",
       "      <td>(180000.0, 202500.0]</td>\n",
       "      <td>(200000, 250000]</td>\n",
       "    </tr>\n",
       "    <tr>\n",
       "      <th>1</th>\n",
       "      <td>270000.0</td>\n",
       "      <td>(-91324.35, 14647443.75]</td>\n",
       "      <td>(261000.0, 117000000.0]</td>\n",
       "      <td>(250000, 300000]</td>\n",
       "    </tr>\n",
       "    <tr>\n",
       "      <th>2</th>\n",
       "      <td>67500.0</td>\n",
       "      <td>(-91324.35, 14647443.75]</td>\n",
       "      <td>(25649.999, 90000.0]</td>\n",
       "      <td>(50000, 100000]</td>\n",
       "    </tr>\n",
       "    <tr>\n",
       "      <th>3</th>\n",
       "      <td>135000.0</td>\n",
       "      <td>(-91324.35, 14647443.75]</td>\n",
       "      <td>(112500.0, 135000.0]</td>\n",
       "      <td>(100000, 150000]</td>\n",
       "    </tr>\n",
       "    <tr>\n",
       "      <th>4</th>\n",
       "      <td>121500.0</td>\n",
       "      <td>(-91324.35, 14647443.75]</td>\n",
       "      <td>(112500.0, 135000.0]</td>\n",
       "      <td>(100000, 150000]</td>\n",
       "    </tr>\n",
       "    <tr>\n",
       "      <th>5</th>\n",
       "      <td>99000.0</td>\n",
       "      <td>(-91324.35, 14647443.75]</td>\n",
       "      <td>(90000.0, 112500.0]</td>\n",
       "      <td>(50000, 100000]</td>\n",
       "    </tr>\n",
       "    <tr>\n",
       "      <th>6</th>\n",
       "      <td>171000.0</td>\n",
       "      <td>(-91324.35, 14647443.75]</td>\n",
       "      <td>(147150.0, 180000.0]</td>\n",
       "      <td>(150000, 200000]</td>\n",
       "    </tr>\n",
       "    <tr>\n",
       "      <th>7</th>\n",
       "      <td>360000.0</td>\n",
       "      <td>(-91324.35, 14647443.75]</td>\n",
       "      <td>(261000.0, 117000000.0]</td>\n",
       "      <td>(300000, 200000000]</td>\n",
       "    </tr>\n",
       "    <tr>\n",
       "      <th>8</th>\n",
       "      <td>112500.0</td>\n",
       "      <td>(-91324.35, 14647443.75]</td>\n",
       "      <td>(90000.0, 112500.0]</td>\n",
       "      <td>(100000, 150000]</td>\n",
       "    </tr>\n",
       "    <tr>\n",
       "      <th>9</th>\n",
       "      <td>135000.0</td>\n",
       "      <td>(-91324.35, 14647443.75]</td>\n",
       "      <td>(112500.0, 135000.0]</td>\n",
       "      <td>(100000, 150000]</td>\n",
       "    </tr>\n",
       "  </tbody>\n",
       "</table>\n",
       "</div>"
      ],
      "text/plain": [
       "   AMT_INCOME_TOTAL        equal_width_INCOME        equal_freq_INCOME  \\\n",
       "0          202500.0  (-91324.35, 14647443.75]     (180000.0, 202500.0]   \n",
       "1          270000.0  (-91324.35, 14647443.75]  (261000.0, 117000000.0]   \n",
       "2           67500.0  (-91324.35, 14647443.75]     (25649.999, 90000.0]   \n",
       "3          135000.0  (-91324.35, 14647443.75]     (112500.0, 135000.0]   \n",
       "4          121500.0  (-91324.35, 14647443.75]     (112500.0, 135000.0]   \n",
       "5           99000.0  (-91324.35, 14647443.75]      (90000.0, 112500.0]   \n",
       "6          171000.0  (-91324.35, 14647443.75]     (147150.0, 180000.0]   \n",
       "7          360000.0  (-91324.35, 14647443.75]  (261000.0, 117000000.0]   \n",
       "8          112500.0  (-91324.35, 14647443.75]      (90000.0, 112500.0]   \n",
       "9          135000.0  (-91324.35, 14647443.75]     (112500.0, 135000.0]   \n",
       "\n",
       "     customized_INCOME  \n",
       "0     (200000, 250000]  \n",
       "1     (250000, 300000]  \n",
       "2      (50000, 100000]  \n",
       "3     (100000, 150000]  \n",
       "4     (100000, 150000]  \n",
       "5      (50000, 100000]  \n",
       "6     (150000, 200000]  \n",
       "7  (300000, 200000000]  \n",
       "8     (100000, 150000]  \n",
       "9     (100000, 150000]  "
      ]
     },
     "execution_count": 35,
     "metadata": {},
     "output_type": "execute_result"
    }
   ],
   "source": [
    "#查看一下結果\n",
    "diff = ['AMT_INCOME_TOTAL','equal_width_INCOME','equal_freq_INCOME','customized_INCOME']\n",
    "app_train[diff].head(10)"
   ]
  },
  {
   "cell_type": "code",
   "execution_count": null,
   "metadata": {},
   "outputs": [],
   "source": []
  }
 ],
 "metadata": {
  "kernelspec": {
   "display_name": "Python 3",
   "language": "python",
   "name": "python3"
  },
  "language_info": {
   "codemirror_mode": {
    "name": "ipython",
    "version": 3
   },
   "file_extension": ".py",
   "mimetype": "text/x-python",
   "name": "python",
   "nbconvert_exporter": "python",
   "pygments_lexer": "ipython3",
   "version": "3.7.1"
  }
 },
 "nbformat": 4,
 "nbformat_minor": 2
}
