{
 "cells": [
  {
   "cell_type": "code",
   "execution_count": 2,
   "metadata": {},
   "outputs": [],
   "source": [
    "import keras\n",
    "from keras.datasets import cifar10\n",
    "from keras.preprocessing.image import ImageDataGenerator\n",
    "from keras.models import Sequential\n",
    "from keras.layers import Dense, Dropout, Activation, Flatten\n",
    "from keras.layers import Conv2D, MaxPooling2D\n",
    "from keras.optimizers import RMSprop, Adam\n",
    "import os"
   ]
  },
  {
   "cell_type": "code",
   "execution_count": 4,
   "metadata": {},
   "outputs": [
    {
     "name": "stdout",
     "output_type": "stream",
     "text": [
      "x_train shape: (50000, 32, 32, 3)\n",
      "50000 train samples\n",
      "10000 test samples\n"
     ]
    }
   ],
   "source": [
    "batch_size = 128 # batch 的大小，如果出現 OOM error，請降低這個值\n",
    "num_classes = 10 # 類別的數量，Cifar 10 共有 10 個類別\n",
    "epochs = 10 # 訓練的 epochs 數量\n",
    "\n",
    "# 讀取資料並檢視\n",
    "(x_train, y_train), (x_test, y_test) = cifar10.load_data()\n",
    "print('x_train shape:', x_train.shape)\n",
    "print(x_train.shape[0], 'train samples')\n",
    "print(x_test.shape[0], 'test samples')\n",
    "\n",
    "# 對 label 進行 one-hot encoding (y_trian 原本是純數字)\n",
    "y_train = keras.utils.to_categorical(y_train, num_classes)\n",
    "y_test = keras.utils.to_categorical(y_test, num_classes)"
   ]
  },
  {
   "cell_type": "markdown",
   "metadata": {},
   "source": [
    "## 首先我們使用一般的 DNN (MLP) 來訓練\n",
    "由於 DNN 只能輸入一維的資料，我們要先將影像進行攤平，若 (50000, 32, 32, 3) 的影像，攤平後會變成 (50000, 32*32*3) = (50000, 3072)"
   ]
  },
  {
   "cell_type": "code",
   "execution_count": 5,
   "metadata": {},
   "outputs": [
    {
     "name": "stdout",
     "output_type": "stream",
     "text": [
      "50000 train samples\n",
      "10000 test samples\n"
     ]
    }
   ],
   "source": [
    "# 將資料攤平成一維資料\n",
    "x_train = x_train.reshape(50000, 3072) \n",
    "x_test = x_test.reshape(10000, 3072)\n",
    "\n",
    "# 將資料變為 float32 並標準化\n",
    "x_train = x_train.astype('float32')\n",
    "x_test = x_test.astype('float32')\n",
    "x_train /= 255\n",
    "x_test /= 255\n",
    "print(x_train.shape[0], 'train samples')\n",
    "print(x_test.shape[0], 'test samples')"
   ]
  },
  {
   "cell_type": "code",
   "execution_count": 6,
   "metadata": {},
   "outputs": [
    {
     "name": "stdout",
     "output_type": "stream",
     "text": [
      "WARNING:tensorflow:From C:\\Users\\Administrator\\Anaconda3\\lib\\site-packages\\tensorflow\\python\\framework\\op_def_library.py:263: colocate_with (from tensorflow.python.framework.ops) is deprecated and will be removed in a future version.\n",
      "Instructions for updating:\n",
      "Colocations handled automatically by placer.\n",
      "WARNING:tensorflow:From C:\\Users\\Administrator\\Anaconda3\\lib\\site-packages\\keras\\backend\\tensorflow_backend.py:3445: calling dropout (from tensorflow.python.ops.nn_ops) with keep_prob is deprecated and will be removed in a future version.\n",
      "Instructions for updating:\n",
      "Please use `rate` instead of `keep_prob`. Rate should be set to `rate = 1 - keep_prob`.\n",
      "_________________________________________________________________\n",
      "Layer (type)                 Output Shape              Param #   \n",
      "=================================================================\n",
      "dense_1 (Dense)              (None, 512)               1573376   \n",
      "_________________________________________________________________\n",
      "dropout_1 (Dropout)          (None, 512)               0         \n",
      "_________________________________________________________________\n",
      "dense_2 (Dense)              (None, 512)               262656    \n",
      "_________________________________________________________________\n",
      "dropout_2 (Dropout)          (None, 512)               0         \n",
      "_________________________________________________________________\n",
      "dense_3 (Dense)              (None, 10)                5130      \n",
      "=================================================================\n",
      "Total params: 1,841,162\n",
      "Trainable params: 1,841,162\n",
      "Non-trainable params: 0\n",
      "_________________________________________________________________\n",
      "WARNING:tensorflow:From C:\\Users\\Administrator\\Anaconda3\\lib\\site-packages\\tensorflow\\python\\ops\\math_ops.py:3066: to_int32 (from tensorflow.python.ops.math_ops) is deprecated and will be removed in a future version.\n",
      "Instructions for updating:\n",
      "Use tf.cast instead.\n",
      "Train on 50000 samples, validate on 10000 samples\n",
      "Epoch 1/10\n",
      "50000/50000 [==============================] - 10s 208us/step - loss: 2.2379 - acc: 0.2494 - val_loss: 1.8592 - val_acc: 0.3248\n",
      "Epoch 2/10\n",
      "50000/50000 [==============================] - 10s 199us/step - loss: 1.8487 - acc: 0.3335 - val_loss: 1.7133 - val_acc: 0.3948\n",
      "Epoch 3/10\n",
      "50000/50000 [==============================] - 10s 197us/step - loss: 1.7770 - acc: 0.3617 - val_loss: 1.7119 - val_acc: 0.3929\n",
      "Epoch 4/10\n",
      "50000/50000 [==============================] - 10s 196us/step - loss: 1.7302 - acc: 0.3797 - val_loss: 1.6902 - val_acc: 0.3920\n",
      "Epoch 5/10\n",
      "50000/50000 [==============================] - 10s 198us/step - loss: 1.7025 - acc: 0.3901 - val_loss: 1.6259 - val_acc: 0.4203\n",
      "Epoch 6/10\n",
      "50000/50000 [==============================] - 10s 198us/step - loss: 1.6737 - acc: 0.4009 - val_loss: 1.5893 - val_acc: 0.4470\n",
      "Epoch 7/10\n",
      "50000/50000 [==============================] - 10s 198us/step - loss: 1.6452 - acc: 0.4114 - val_loss: 1.6558 - val_acc: 0.4016\n",
      "Epoch 8/10\n",
      "50000/50000 [==============================] - 10s 199us/step - loss: 1.6354 - acc: 0.4175 - val_loss: 1.5693 - val_acc: 0.4474\n",
      "Epoch 9/10\n",
      "50000/50000 [==============================] - 10s 201us/step - loss: 1.6135 - acc: 0.4216 - val_loss: 1.6129 - val_acc: 0.4350\n",
      "Epoch 10/10\n",
      "50000/50000 [==============================] - 10s 202us/step - loss: 1.6010 - acc: 0.4270 - val_loss: 1.5791 - val_acc: 0.4449\n",
      "Test loss: 1.5791340515136718\n",
      "Test accuracy: 0.4449\n"
     ]
    }
   ],
   "source": [
    "model = Sequential()\n",
    "model.add(Dense(512, activation='relu', input_shape=(3072,)))\n",
    "model.add(Dropout(0.2))\n",
    "model.add(Dense(512, activation='relu'))\n",
    "model.add(Dropout(0.2))\n",
    "model.add(Dense(num_classes, activation='softmax'))\n",
    "\n",
    "model.summary()\n",
    "\n",
    "model.compile(loss='categorical_crossentropy',\n",
    "              optimizer=RMSprop(),\n",
    "              metrics=['accuracy'])\n",
    "\n",
    "history = model.fit(x_train, y_train,\n",
    "                    batch_size=batch_size,\n",
    "                    epochs=epochs,\n",
    "                    verbose=1,\n",
    "                    validation_data=(x_test, y_test))\n",
    "score = model.evaluate(x_test, y_test, verbose=0)\n",
    "print('Test loss:', score[0])\n",
    "print('Test accuracy:', score[1])"
   ]
  },
  {
   "cell_type": "markdown",
   "metadata": {},
   "source": [
    "## 接下來我們使用 CNN 來訓練神經網路\n",
    "CNN 的原理非常適合處理影像類的資料，就讓我們來看看，同樣的訓練條件，CNN 是否顯著優於 DNN 呢?"
   ]
  },
  {
   "cell_type": "code",
   "execution_count": 7,
   "metadata": {},
   "outputs": [
    {
     "name": "stdout",
     "output_type": "stream",
     "text": [
      "x_train shape: (50000, 32, 32, 3)\n",
      "50000 train samples\n",
      "10000 test samples\n"
     ]
    }
   ],
   "source": [
    "(x_train, y_train), (x_test, y_test) = cifar10.load_data()\n",
    "print('x_train shape:', x_train.shape)\n",
    "print(x_train.shape[0], 'train samples')\n",
    "print(x_test.shape[0], 'test samples')\n",
    "x_train = x_train.astype('float32')\n",
    "x_test = x_test.astype('float32')\n",
    "x_train /= 255\n",
    "x_test /= 255\n",
    "\n",
    "# Convert class vectors to binary class matrices.\n",
    "y_train = keras.utils.to_categorical(y_train, num_classes)\n",
    "y_test = keras.utils.to_categorical(y_test, num_classes)"
   ]
  },
  {
   "cell_type": "code",
   "execution_count": 8,
   "metadata": {
    "scrolled": true
   },
   "outputs": [
    {
     "name": "stdout",
     "output_type": "stream",
     "text": [
      "_________________________________________________________________\n",
      "Layer (type)                 Output Shape              Param #   \n",
      "=================================================================\n",
      "conv2d_1 (Conv2D)            (None, 32, 32, 32)        896       \n",
      "_________________________________________________________________\n",
      "activation_1 (Activation)    (None, 32, 32, 32)        0         \n",
      "_________________________________________________________________\n",
      "conv2d_2 (Conv2D)            (None, 30, 30, 32)        9248      \n",
      "_________________________________________________________________\n",
      "activation_2 (Activation)    (None, 30, 30, 32)        0         \n",
      "_________________________________________________________________\n",
      "max_pooling2d_1 (MaxPooling2 (None, 15, 15, 32)        0         \n",
      "_________________________________________________________________\n",
      "dropout_3 (Dropout)          (None, 15, 15, 32)        0         \n",
      "_________________________________________________________________\n",
      "conv2d_3 (Conv2D)            (None, 15, 15, 64)        18496     \n",
      "_________________________________________________________________\n",
      "activation_3 (Activation)    (None, 15, 15, 64)        0         \n",
      "_________________________________________________________________\n",
      "conv2d_4 (Conv2D)            (None, 13, 13, 64)        36928     \n",
      "_________________________________________________________________\n",
      "activation_4 (Activation)    (None, 13, 13, 64)        0         \n",
      "_________________________________________________________________\n",
      "max_pooling2d_2 (MaxPooling2 (None, 6, 6, 64)          0         \n",
      "_________________________________________________________________\n",
      "dropout_4 (Dropout)          (None, 6, 6, 64)          0         \n",
      "_________________________________________________________________\n",
      "flatten_1 (Flatten)          (None, 2304)              0         \n",
      "_________________________________________________________________\n",
      "dense_4 (Dense)              (None, 512)               1180160   \n",
      "_________________________________________________________________\n",
      "activation_5 (Activation)    (None, 512)               0         \n",
      "_________________________________________________________________\n",
      "dropout_5 (Dropout)          (None, 512)               0         \n",
      "_________________________________________________________________\n",
      "dense_5 (Dense)              (None, 10)                5130      \n",
      "_________________________________________________________________\n",
      "activation_6 (Activation)    (None, 10)                0         \n",
      "=================================================================\n",
      "Total params: 1,250,858\n",
      "Trainable params: 1,250,858\n",
      "Non-trainable params: 0\n",
      "_________________________________________________________________\n",
      "Train on 50000 samples, validate on 10000 samples\n",
      "Epoch 1/10\n",
      "50000/50000 [==============================] - 128s 3ms/step - loss: 1.7491 - acc: 0.3666 - val_loss: 1.5463 - val_acc: 0.4591\n",
      "Epoch 2/10\n",
      "50000/50000 [==============================] - 130s 3ms/step - loss: 1.2996 - acc: 0.5400 - val_loss: 1.1114 - val_acc: 0.6077\n",
      "Epoch 3/10\n",
      "50000/50000 [==============================] - 125s 3ms/step - loss: 1.0970 - acc: 0.6157 - val_loss: 0.9534 - val_acc: 0.6697\n",
      "Epoch 4/10\n",
      "50000/50000 [==============================] - 125s 2ms/step - loss: 0.9629 - acc: 0.6632 - val_loss: 0.8445 - val_acc: 0.7059\n",
      "Epoch 5/10\n",
      "50000/50000 [==============================] - 125s 2ms/step - loss: 0.8739 - acc: 0.6970 - val_loss: 0.7885 - val_acc: 0.7264\n",
      "Epoch 6/10\n",
      "50000/50000 [==============================] - 125s 2ms/step - loss: 0.8081 - acc: 0.7202 - val_loss: 0.8328 - val_acc: 0.7136\n",
      "Epoch 7/10\n",
      "50000/50000 [==============================] - 125s 2ms/step - loss: 0.7604 - acc: 0.7377 - val_loss: 0.7277 - val_acc: 0.7524\n",
      "Epoch 8/10\n",
      "50000/50000 [==============================] - 124s 2ms/step - loss: 0.7174 - acc: 0.7509 - val_loss: 0.7171 - val_acc: 0.7580\n",
      "Epoch 9/10\n",
      "50000/50000 [==============================] - 126s 3ms/step - loss: 0.6806 - acc: 0.7647 - val_loss: 0.6919 - val_acc: 0.7676\n",
      "Epoch 10/10\n",
      "50000/50000 [==============================] - 133s 3ms/step - loss: 0.6561 - acc: 0.7770 - val_loss: 0.6802 - val_acc: 0.7667\n",
      "Test loss: 0.6802394693374634\n",
      "Test accuracy: 0.7667\n"
     ]
    }
   ],
   "source": [
    "model = Sequential()\n",
    "model.add(Conv2D(32, (3, 3), padding='same',\n",
    "                 input_shape=x_train.shape[1:]))\n",
    "model.add(Activation('relu'))\n",
    "model.add(Conv2D(32, (3, 3)))\n",
    "model.add(Activation('relu'))\n",
    "model.add(MaxPooling2D(pool_size=(2, 2)))\n",
    "model.add(Dropout(0.25))\n",
    "\n",
    "model.add(Conv2D(64, (3, 3), padding='same'))\n",
    "model.add(Activation('relu'))\n",
    "model.add(Conv2D(64, (3, 3)))\n",
    "model.add(Activation('relu'))\n",
    "model.add(MaxPooling2D(pool_size=(2, 2)))\n",
    "model.add(Dropout(0.25))\n",
    "\n",
    "model.add(Flatten())\n",
    "model.add(Dense(512))\n",
    "model.add(Activation('relu'))\n",
    "model.add(Dropout(0.5))\n",
    "model.add(Dense(num_classes))\n",
    "model.add(Activation('softmax'))\n",
    "model.summary()\n",
    "\n",
    "model.compile(loss='categorical_crossentropy',\n",
    "              optimizer=RMSprop(),\n",
    "              metrics=['accuracy'])\n",
    "\n",
    "history = model.fit(x_train, y_train,\n",
    "                    batch_size=batch_size,\n",
    "                    epochs=epochs,\n",
    "                    verbose=1,\n",
    "                    validation_data=(x_test, y_test))\n",
    "score = model.evaluate(x_test, y_test, verbose=0)\n",
    "print('Test loss:', score[0])\n",
    "print('Test accuracy:', score[1])"
   ]
  },
  {
   "cell_type": "code",
   "execution_count": 9,
   "metadata": {},
   "outputs": [
    {
     "name": "stdout",
     "output_type": "stream",
     "text": [
      "_________________________________________________________________\n",
      "Layer (type)                 Output Shape              Param #   \n",
      "=================================================================\n",
      "conv2d_5 (Conv2D)            (None, 32, 32, 32)        896       \n",
      "_________________________________________________________________\n",
      "activation_7 (Activation)    (None, 32, 32, 32)        0         \n",
      "_________________________________________________________________\n",
      "conv2d_6 (Conv2D)            (None, 30, 30, 32)        9248      \n",
      "_________________________________________________________________\n",
      "activation_8 (Activation)    (None, 30, 30, 32)        0         \n",
      "_________________________________________________________________\n",
      "max_pooling2d_3 (MaxPooling2 (None, 15, 15, 32)        0         \n",
      "_________________________________________________________________\n",
      "dropout_6 (Dropout)          (None, 15, 15, 32)        0         \n",
      "_________________________________________________________________\n",
      "conv2d_7 (Conv2D)            (None, 15, 15, 64)        18496     \n",
      "_________________________________________________________________\n",
      "activation_9 (Activation)    (None, 15, 15, 64)        0         \n",
      "_________________________________________________________________\n",
      "conv2d_8 (Conv2D)            (None, 13, 13, 64)        36928     \n",
      "_________________________________________________________________\n",
      "activation_10 (Activation)   (None, 13, 13, 64)        0         \n",
      "_________________________________________________________________\n",
      "max_pooling2d_4 (MaxPooling2 (None, 6, 6, 64)          0         \n",
      "_________________________________________________________________\n",
      "dropout_7 (Dropout)          (None, 6, 6, 64)          0         \n",
      "_________________________________________________________________\n",
      "flatten_2 (Flatten)          (None, 2304)              0         \n",
      "_________________________________________________________________\n",
      "dense_6 (Dense)              (None, 512)               1180160   \n",
      "_________________________________________________________________\n",
      "activation_11 (Activation)   (None, 512)               0         \n",
      "_________________________________________________________________\n",
      "dropout_8 (Dropout)          (None, 512)               0         \n",
      "_________________________________________________________________\n",
      "dense_7 (Dense)              (None, 10)                5130      \n",
      "_________________________________________________________________\n",
      "activation_12 (Activation)   (None, 10)                0         \n",
      "=================================================================\n",
      "Total params: 1,250,858\n",
      "Trainable params: 1,250,858\n",
      "Non-trainable params: 0\n",
      "_________________________________________________________________\n",
      "Train on 50000 samples, validate on 10000 samples\n",
      "Epoch 1/10\n",
      "50000/50000 [==============================] - 121s 2ms/step - loss: 2.0230 - acc: 0.2769 - val_loss: 1.7761 - val_acc: 0.3805\n",
      "Epoch 2/10\n",
      "50000/50000 [==============================] - 118s 2ms/step - loss: 1.6726 - acc: 0.4016 - val_loss: 1.4784 - val_acc: 0.4733\n",
      "Epoch 3/10\n",
      "50000/50000 [==============================] - 118s 2ms/step - loss: 1.5035 - acc: 0.4659 - val_loss: 1.3067 - val_acc: 0.5406\n",
      "Epoch 4/10\n",
      "50000/50000 [==============================] - 118s 2ms/step - loss: 1.3434 - acc: 0.5248 - val_loss: 1.1933 - val_acc: 0.5818\n",
      "Epoch 5/10\n",
      "50000/50000 [==============================] - 118s 2ms/step - loss: 1.2359 - acc: 0.5669 - val_loss: 1.1019 - val_acc: 0.6117\n",
      "Epoch 6/10\n",
      "50000/50000 [==============================] - 118s 2ms/step - loss: 1.1379 - acc: 0.5990 - val_loss: 1.1483 - val_acc: 0.6035\n",
      "Epoch 7/10\n",
      "50000/50000 [==============================] - 118s 2ms/step - loss: 1.0627 - acc: 0.6310 - val_loss: 0.9428 - val_acc: 0.6723\n",
      "Epoch 8/10\n",
      "50000/50000 [==============================] - 122s 2ms/step - loss: 0.9889 - acc: 0.6546 - val_loss: 0.9943 - val_acc: 0.6506\n",
      "Epoch 9/10\n",
      "50000/50000 [==============================] - 126s 3ms/step - loss: 0.9285 - acc: 0.6758 - val_loss: 0.8902 - val_acc: 0.6893\n",
      "Epoch 10/10\n",
      "50000/50000 [==============================] - 121s 2ms/step - loss: 0.8810 - acc: 0.6909 - val_loss: 0.8687 - val_acc: 0.6982\n",
      "Test loss: 0.8686881720542907\n",
      "Test accuracy: 0.6982\n"
     ]
    }
   ],
   "source": [
    "model_new = Sequential()\n",
    "model_new.add(Conv2D(32, (3, 3), padding='same',\n",
    "                 input_shape=x_train.shape[1:]))\n",
    "model_new.add(Activation('relu'))\n",
    "model_new.add(Conv2D(32, (3, 3)))\n",
    "model_new.add(Activation('relu'))\n",
    "model_new.add(MaxPooling2D(pool_size=(2, 2)))\n",
    "model_new.add(Dropout(0.25))\n",
    "\n",
    "model_new.add(Conv2D(64, (3, 3), padding='same'))\n",
    "model_new.add(Activation('relu'))\n",
    "model_new.add(Conv2D(64, (3, 3)))\n",
    "model_new.add(Activation('relu'))\n",
    "model_new.add(MaxPooling2D(pool_size=(2, 2)))\n",
    "model_new.add(Dropout(0.25))\n",
    "\n",
    "model_new.add(Flatten())\n",
    "model_new.add(Dense(512))\n",
    "model_new.add(Activation('relu'))\n",
    "model_new.add(Dropout(0.5))\n",
    "model_new.add(Dense(num_classes))\n",
    "model_new.add(Activation('softmax'))\n",
    "model_new.summary()\n",
    "\n",
    "model_new.compile(loss='categorical_crossentropy',\n",
    "              optimizer=RMSprop(),\n",
    "              metrics=['accuracy'])\n",
    "\n",
    "history_new = model_new.fit(x_train, y_train,\n",
    "                    batch_size=512,\n",
    "                    epochs=epochs,\n",
    "                    verbose=1,\n",
    "                    validation_data=(x_test, y_test))\n",
    "score_new = model_new.evaluate(x_test, y_test, verbose=0)\n",
    "print('Test loss:', score_new[0])\n",
    "print('Test accuracy:', score_new[1])"
   ]
  },
  {
   "cell_type": "markdown",
   "metadata": {},
   "source": [
    "## 同樣運算 10 個 epochs，但 CNN 在 test data 的準確率顯著優於 DNN!"
   ]
  },
  {
   "cell_type": "markdown",
   "metadata": {},
   "source": [
    "## 作業\n",
    "1. 請試著調整各個超參數，並說明那些超參數對於結果有明顯的影響?\n",
    "2. CNN 與 DNN 哪個模型的參數數量比較多? 造成參數的數量不同的原因在哪?"
   ]
  },
  {
   "cell_type": "markdown",
   "metadata": {},
   "source": [
    "1.  \n",
    "batch_size從128改成512之後  \n",
    "accuracy 從0.777降到0.690 時間差異不大  \n",
    "2.  \n",
    "CNN 參數較少  \n",
    "因為先運算conv後才flatten進行Dense layer  \n",
    "因此可以減少參數數量  "
   ]
  },
  {
   "cell_type": "code",
   "execution_count": null,
   "metadata": {},
   "outputs": [],
   "source": []
  }
 ],
 "metadata": {
  "kernelspec": {
   "display_name": "Python 3",
   "language": "python",
   "name": "python3"
  },
  "language_info": {
   "codemirror_mode": {
    "name": "ipython",
    "version": 3
   },
   "file_extension": ".py",
   "mimetype": "text/x-python",
   "name": "python",
   "nbconvert_exporter": "python",
   "pygments_lexer": "ipython3",
   "version": "3.7.1"
  }
 },
 "nbformat": 4,
 "nbformat_minor": 2
}
