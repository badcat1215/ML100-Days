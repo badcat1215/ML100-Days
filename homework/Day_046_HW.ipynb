{
 "cells": [
  {
   "cell_type": "markdown",
   "metadata": {},
   "source": [
    "### 作業\n",
    "目前已經學過許多的模型，相信大家對整體流程應該比較掌握了，這次作業請改用**手寫辨識資料集**，步驟流程都是一樣的，請試著自己撰寫程式碼來完成所有步驟"
   ]
  },
  {
   "cell_type": "code",
   "execution_count": 49,
   "metadata": {},
   "outputs": [],
   "source": [
    "from sklearn import datasets, metrics\n",
    "digits = datasets.load_digits()"
   ]
  },
  {
   "cell_type": "code",
   "execution_count": 50,
   "metadata": {},
   "outputs": [],
   "source": [
    "from sklearn.model_selection import train_test_split\n",
    "from sklearn.ensemble import GradientBoostingClassifier"
   ]
  },
  {
   "cell_type": "code",
   "execution_count": 51,
   "metadata": {},
   "outputs": [],
   "source": [
    "#將資料分為特徵與目標\n",
    "X = digits.data\n",
    "y = digits.target"
   ]
  },
  {
   "cell_type": "code",
   "execution_count": 52,
   "metadata": {
    "scrolled": true
   },
   "outputs": [
    {
     "name": "stdout",
     "output_type": "stream",
     "text": [
      "Shape of features: (1797, 64)\n",
      "Shape of targets: (1797,)\n"
     ]
    }
   ],
   "source": [
    "#查看資料型態\n",
    "print(\"Shape of features:\", X.shape)\n",
    "print(\"Shape of targets:\", y.shape)\n",
    "#表示總共有64個特徵, 1797個數據"
   ]
  },
  {
   "cell_type": "code",
   "execution_count": 53,
   "metadata": {},
   "outputs": [
    {
     "name": "stdout",
     "output_type": "stream",
     "text": [
      "Score of train: 1.0\n"
     ]
    }
   ],
   "source": [
    "# 切割train,test資料\n",
    "X_train, X_test, y_train, y_test = train_test_split(X, y, test_size=0.3, random_state=2)\n",
    "\n",
    "## 建立模型\n",
    "# n_estimators : int (default=100)\n",
    "# learning_rate : float, optional (default=0.1)\n",
    "# min_samples_split : int, float, optional (default=2)\n",
    "# min_samples_leaf : int, float, optional (default=1)\n",
    "# max_depth : integer, optional (default=3)\n",
    "clf = GradientBoostingClassifier(n_estimators=100, learning_rate=0.1)\n",
    "\n",
    "# 訓練模型\n",
    "clf.fit(X_train, y_train)\n",
    "\n",
    "# 查看訓練分數\n",
    "print(\"Score of train:\", clf.score(X_train,y_train))\n",
    "\n",
    "# 預測\n",
    "y_pred = clf.predict(X_test)"
   ]
  },
  {
   "cell_type": "code",
   "execution_count": 54,
   "metadata": {},
   "outputs": [
    {
     "name": "stdout",
     "output_type": "stream",
     "text": [
      "Feature importance:  [0.00000000e+00 4.76457108e-04 6.43242751e-03 5.22939696e-03\n",
      " 6.06124592e-03 5.23359055e-02 2.48783626e-03 3.52692509e-03\n",
      " 3.02575721e-04 1.09704342e-03 2.43639992e-02 1.44591385e-03\n",
      " 8.98515208e-03 1.02980156e-02 2.65404892e-03 2.03670840e-04\n",
      " 4.13882543e-04 2.62706453e-03 6.86033222e-03 2.23245661e-02\n",
      " 3.45086881e-02 9.31917937e-02 4.04385946e-03 2.34549761e-04\n",
      " 7.40739876e-06 1.45228083e-03 4.61999042e-02 2.20713264e-02\n",
      " 3.71880022e-02 2.96753066e-02 5.16473165e-03 0.00000000e+00\n",
      " 0.00000000e+00 6.77858459e-02 4.54051094e-03 5.56130095e-03\n",
      " 6.92401884e-02 1.29838746e-02 1.93252920e-02 0.00000000e+00\n",
      " 0.00000000e+00 8.32531664e-03 7.84241415e-02 7.62536894e-02\n",
      " 8.69332586e-03 8.56086006e-03 3.59044411e-02 1.50071778e-07\n",
      " 2.49204814e-09 2.76712382e-04 4.05895344e-03 1.14631177e-02\n",
      " 9.70128550e-03 1.07943244e-02 3.25420027e-02 2.07701193e-04\n",
      " 0.00000000e+00 3.60369428e-04 9.97585556e-03 2.07282592e-03\n",
      " 5.48373715e-02 3.39362731e-03 2.15846893e-02 1.12679143e-02]\n"
     ]
    }
   ],
   "source": [
    "# 查看訓練模型的係數\n",
    "print(\"Feature importance: \", clf.feature_importances_)"
   ]
  },
  {
   "cell_type": "code",
   "execution_count": 55,
   "metadata": {},
   "outputs": [
    {
     "name": "stdout",
     "output_type": "stream",
     "text": [
      "Accuracy: 0.9351851851851852\n"
     ]
    }
   ],
   "source": [
    "# 查看test資料準確率, 比對test值跟pred值\n",
    "acc = metrics.accuracy_score(y_test, y_pred)\n",
    "print('Accuracy:', acc)"
   ]
  },
  {
   "cell_type": "code",
   "execution_count": null,
   "metadata": {},
   "outputs": [],
   "source": []
  }
 ],
 "metadata": {
  "kernelspec": {
   "display_name": "Python 3",
   "language": "python",
   "name": "python3"
  },
  "language_info": {
   "codemirror_mode": {
    "name": "ipython",
    "version": 3
   },
   "file_extension": ".py",
   "mimetype": "text/x-python",
   "name": "python",
   "nbconvert_exporter": "python",
   "pygments_lexer": "ipython3",
   "version": "3.7.1"
  }
 },
 "nbformat": 4,
 "nbformat_minor": 2
}
