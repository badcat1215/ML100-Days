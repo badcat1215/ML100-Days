{
 "cells": [
  {
   "cell_type": "markdown",
   "metadata": {},
   "source": [
    "## 練習時間\n",
    "試著使用 sklearn datasets 的其他資料集 (boston, ...)，來訓練自己的線性迴歸模型，並加上適當的正則話來觀察訓練情形。"
   ]
  },
  {
   "cell_type": "code",
   "execution_count": 6,
   "metadata": {},
   "outputs": [],
   "source": [
    "import numpy as np\n",
    "import matplotlib.pyplot as plt\n",
    "from sklearn import datasets,linear_model \n",
    "from sklearn.model_selection import train_test_split\n",
    "from sklearn.metrics import mean_squared_error, r2_score"
   ]
  },
  {
   "cell_type": "markdown",
   "metadata": {},
   "source": [
    "## Lasso"
   ]
  },
  {
   "cell_type": "code",
   "execution_count": 7,
   "metadata": {},
   "outputs": [
    {
     "name": "stdout",
     "output_type": "stream",
     "text": [
      "Data shape:  (506, 13)\n",
      "train score: 0.7193621666317072\n"
     ]
    }
   ],
   "source": [
    "# 讀取boston房價資料\n",
    "boston = datasets.load_boston()\n",
    "\n",
    "# 載入features, 並確認大小\n",
    "X = boston.data\n",
    "print(\"Data shape: \", X.shape)\n",
    "\n",
    "# 切分訓練集/測試集\n",
    "x_train, x_test, y_train, y_test = train_test_split(X, boston.target , test_size=0.1, random_state=1)\n",
    "\n",
    "# 建立一個Lasso回歸模型\n",
    "lasso = linear_model.Lasso(alpha=0.1)\n",
    "\n",
    "# 將訓練資料丟進去模型訓練\n",
    "lasso.fit(x_train, y_train)\n",
    "print(\"train score:\",lasso.score(x_train, y_train))\n",
    "\n",
    "# 將測試資料丟進模型得到預測結果\n",
    "y_pred = lasso.predict(x_test)"
   ]
  },
  {
   "cell_type": "code",
   "execution_count": 8,
   "metadata": {},
   "outputs": [
    {
     "name": "stdout",
     "output_type": "stream",
     "text": [
      "Coefficients:  [-0.10640276  0.05793569 -0.06350259  0.84575491 -0.          3.42213376\n",
      " -0.01307927 -1.2623356   0.27745833 -0.0142168  -0.72835262  0.00961902\n",
      " -0.56242292]\n",
      "Mean squared error: 20.98\n"
     ]
    }
   ],
   "source": [
    "# 可以看回歸模型的參數值\n",
    "print('Coefficients: ', lasso.coef_)\n",
    "\n",
    "# 預測值與實際值的差距，使用 MSE\n",
    "print(\"Mean squared error: %.2f\"\n",
    "      % mean_squared_error(y_test, y_pred))"
   ]
  },
  {
   "cell_type": "code",
   "execution_count": 9,
   "metadata": {},
   "outputs": [
    {
     "name": "stdout",
     "output_type": "stream",
     "text": [
      "[28.2 23.9 16.6 22.  20.8]\n",
      "[32.65151645 28.38758412 16.97373178 21.07512569 20.71976419]\n"
     ]
    }
   ],
   "source": [
    "#確認一下實際值跟預測值\n",
    "print(y_test[:5])\n",
    "print(y_pred[:5])"
   ]
  },
  {
   "cell_type": "markdown",
   "metadata": {},
   "source": [
    "HW38使用linear regression時<br>\n",
    "Mean squared error: 20.54<br>\n",
    "而這邊使用Lasso<br>\n",
    "Mean squared error: 20.98<br>\n",
    "結果並沒有比較準<br>"
   ]
  },
  {
   "cell_type": "markdown",
   "metadata": {},
   "source": [
    "## Ridge"
   ]
  },
  {
   "cell_type": "code",
   "execution_count": 14,
   "metadata": {},
   "outputs": [
    {
     "name": "stdout",
     "output_type": "stream",
     "text": [
      "Data shape:  (506, 13)\n",
      "train score: 0.7434617072440968\n"
     ]
    }
   ],
   "source": [
    "# 讀取boston房價資料\n",
    "boston = datasets.load_boston()\n",
    "\n",
    "# 載入features, 並確認大小\n",
    "X0 = boston.data\n",
    "print(\"Data shape: \", X0.shape)\n",
    "\n",
    "# 切分訓練集/測試集\n",
    "x_train0, x_test0, y_train0, y_test0 = train_test_split(X0, boston.target , test_size=0.1, random_state=2)\n",
    "\n",
    "# 建立一個Lasso回歸模型\n",
    "ridge = linear_model.Ridge(alpha=0.1)\n",
    "\n",
    "# 將訓練資料丟進去模型訓練\n",
    "ridge.fit(x_train0, y_train0)\n",
    "print(\"train score:\",ridge.score(x_train0, y_train0))\n",
    "\n",
    "# 將測試資料丟進模型得到預測結果\n",
    "y_pred0 = ridge.predict(x_test0)"
   ]
  },
  {
   "cell_type": "code",
   "execution_count": 15,
   "metadata": {},
   "outputs": [
    {
     "name": "stdout",
     "output_type": "stream",
     "text": [
      "Coefficients:  [-1.11806826e-01  4.33633358e-02 -4.77780647e-03  2.78728265e+00\n",
      " -1.41257630e+01  3.81651072e+00 -1.48247875e-03 -1.40719111e+00\n",
      "  3.25796986e-01 -1.24300847e-02 -9.67766449e-01  1.13760725e-02\n",
      " -5.51630945e-01]\n",
      "Mean squared error: 22.60\n"
     ]
    }
   ],
   "source": [
    "# 可以看回歸模型的參數值\n",
    "print('Coefficients: ', ridge.coef_)\n",
    "\n",
    "# 預測值與實際值的差距，使用 MSE\n",
    "print(\"Mean squared error: %.2f\"\n",
    "      % mean_squared_error(y_test0, y_pred0))"
   ]
  },
  {
   "cell_type": "code",
   "execution_count": 16,
   "metadata": {},
   "outputs": [
    {
     "name": "stdout",
     "output_type": "stream",
     "text": [
      "[20.2 15.3 37.3 32.5  8.8]\n",
      "[23.1507548  20.99199602 34.28097074 31.10030977  3.01932191]\n"
     ]
    }
   ],
   "source": [
    "#確認一下實際值跟預測值\n",
    "print(y_test0[:5])\n",
    "print(y_pred0[:5])"
   ]
  },
  {
   "cell_type": "markdown",
   "metadata": {},
   "source": [
    "HW38使用linear regression時<br>\n",
    "Mean squared error: 20.54<br>\n",
    "Lasso Mean squared error: 20.98<br>\n",
    "Ridge Mean squared error: 22.60<br>\n",
    "結果Ridge也沒有比較準, 反而更差<br>\n",
    "所以如果沒有過擬合發生的話<br>\n",
    "線性回歸可能會比Lasso或是Ridge好<br>"
   ]
  },
  {
   "cell_type": "code",
   "execution_count": null,
   "metadata": {},
   "outputs": [],
   "source": []
  }
 ],
 "metadata": {
  "kernelspec": {
   "display_name": "Python 3",
   "language": "python",
   "name": "python3"
  },
  "language_info": {
   "codemirror_mode": {
    "name": "ipython",
    "version": 3
   },
   "file_extension": ".py",
   "mimetype": "text/x-python",
   "name": "python",
   "nbconvert_exporter": "python",
   "pygments_lexer": "ipython3",
   "version": "3.7.1"
  }
 },
 "nbformat": 4,
 "nbformat_minor": 2
}
