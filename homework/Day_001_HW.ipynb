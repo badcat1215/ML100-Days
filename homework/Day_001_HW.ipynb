{
 "cells": [
  {
   "cell_type": "markdown",
   "metadata": {},
   "source": [
    "## 作業1:\n",
    "## 選用Competitions的Microsoft Malware Prediction\n",
    "\n",
    "### Q1: 你選的這組資料為何重要?\n",
    "### A1: 這個競賽是微軟發起的預測惡意軟件攻擊的資料分析。希望藉由Microsoft的資料庫幫助windows使用者利用安全軟件windows defender預測並避免遭受惡意軟件的攻擊。\n",
    "\n",
    "\n",
    "### Q2: 資料從何而來 (tips: 譬如提供者是誰、以什麼方式蒐集)?\n",
    "### A2: 資料由 Microsoft 提供。\n",
    "\n",
    "\n",
    "### Q3: 蒐集而來的資料型態為何?\n",
    "### A3: 資料型態為csv。\n",
    "\n",
    "### Q3: 這組資料想解決的問題如何評估?\n",
    "### A3: 資料評估指標為 area under the ROC curve\n"
   ]
  },
  {
   "cell_type": "markdown",
   "metadata": {},
   "source": [
    "## 作業2:\n",
    "## 想像你經營一個自由載客車隊，你希望能透過數據分析以提升業績，請你思考並描述你如何規劃整體的分析/解決方案：\n",
    "\n",
    "### Q1: 核心問題為何 (tips：如何定義 「提升業績 & 你的假設」)?\n",
    "### A1: 針對時間、地點、載客量建立關聯性的資料庫，特定的時間地點內是否有比較大的載客需求量。根據不同時間將人力集中在需求量較高的地點，達到提升載客量目標。\n",
    "\n",
    "### Q2: 資料從何而來 (tips：哪些資料可能會對你想問的問題產生影響 & 資料如何蒐集)?\n",
    "### A2: 時間、地點、載客量皆可於車上架設系統記錄。每當有載客時，就記錄下當時時間地點。\n",
    "\n",
    "### Q3: 蒐集而來的資料型態為何?\n",
    "### A3: 時間、文字、數字關聯式資料庫。\n",
    "\n",
    "### Q4: 你要回答的問題，其如何評估 (tips：你的假設如何驗證)?\n",
    "### A4: 由載客量評估，並建立時間與地點相關性，每個時間範圍一定有一個載客量最高的區域地點。"
   ]
  },
  {
   "cell_type": "markdown",
   "metadata": {},
   "source": [
    "## 作業3.\n",
    "## 練習時間\n",
    "#### 請寫一個函式用來計算 Mean Square Error\n",
    "$ MSE = \\frac{1}{n}\\sum_{i=1}^{n}{(Y_i - \\hat{Y}_i)^2} $\n",
    "\n",
    "### Hint: [如何取平方](https://googoodesign.gitbooks.io/-ezpython/unit-1.html)"
   ]
  },
  {
   "cell_type": "code",
   "execution_count": 70,
   "metadata": {},
   "outputs": [],
   "source": [
    "#-*- coding: utf-8 -*-　　 \n",
    "#使用 utf-8 編碼\n",
    "#-*- coding: cp950 -*-　\n",
    "#使用 Big5 編碼（windows 下使用）"
   ]
  },
  {
   "cell_type": "code",
   "execution_count": 71,
   "metadata": {},
   "outputs": [],
   "source": [
    "import numpy as np\n",
    "import matplotlib.pyplot as plt"
   ]
  },
  {
   "cell_type": "code",
   "execution_count": 72,
   "metadata": {},
   "outputs": [],
   "source": [
    "def mean_squared_error(y,y_hat):\n",
    "    \"\"\"\n",
    "    請完成這個 Function 後往下執行\n",
    "    \"\"\"\n",
    "    global y_std\n",
    "    # 順便算了標準差\n",
    "    y_std = (sum((y-mean_y)**2)/length_y)**0.5\n",
    "    return sum((y-y_hat)**2)/length_y\n"
   ]
  },
  {
   "cell_type": "code",
   "execution_count": 73,
   "metadata": {},
   "outputs": [
    {
     "data": {
      "image/png": "[encoded data removed]",
      "text/plain": [
       "<Figure size 432x288 with 1 Axes>"
      ]
     },
     "metadata": {
      "needs_background": "light"
     },
     "output_type": "display_data"
    }
   ],
   "source": [
    "w = 3\n",
    "b = 0.5\n",
    "\n",
    "x_lin = np.linspace(0, 100, 101)\n",
    "# linspace可以生成等間隔數列\n",
    "# 也就是說 x = np.linspace(2.0, 3.0, num=5)\n",
    "# x = array([ 2.  ,  2.25,  2.5 ,  2.75,  3.  ])\n",
    "\n",
    "y = (x_lin + np.random.randn(101) * 5) * w + b \n",
    "# np.random.randn(d0,d1,d2...)\n",
    "# Return a sample (or samples) from the “standard normal” distribution.\n",
    "# 返回一組樣本具有標準正態分佈\n",
    "\n",
    "plt.plot(x_lin, y, 'b.', label = 'data points')\n",
    "plt.title(\"Assume we have data points\")\n",
    "plt.legend(loc = 2)\n",
    "plt.show()"
   ]
  },
  {
   "cell_type": "code",
   "execution_count": 74,
   "metadata": {},
   "outputs": [
    {
     "data": {
      "image/png": "[encoded data removed]",
      "text/plain": [
       "<Figure size 432x288 with 1 Axes>"
      ]
     },
     "metadata": {
      "needs_background": "light"
     },
     "output_type": "display_data"
    }
   ],
   "source": [
    "y_hat = x_lin * w + b\n",
    "plt.plot(x_lin, y, 'b.', label = 'data')\n",
    "plt.plot(x_lin, y_hat, 'r-', label = 'prediction')\n",
    "plt.title(\"Assume we have data points (And the prediction)\")\n",
    "plt.legend(loc = 2)\n",
    "plt.show()"
   ]
  },
  {
   "cell_type": "code",
   "execution_count": 75,
   "metadata": {},
   "outputs": [
    {
     "name": "stdout",
     "output_type": "stream",
     "text": [
      "149.684533743547\n",
      "101\n",
      "x_lin= [  0.   1.   2.   3.   4.   5.   6.   7.   8.   9.  10.  11.  12.  13.\n",
      "  14.  15.  16.  17.  18.  19.  20.  21.  22.  23.  24.  25.  26.  27.\n",
      "  28.  29.  30.  31.  32.  33.  34.  35.  36.  37.  38.  39.  40.  41.\n",
      "  42.  43.  44.  45.  46.  47.  48.  49.  50.  51.  52.  53.  54.  55.\n",
      "  56.  57.  58.  59.  60.  61.  62.  63.  64.  65.  66.  67.  68.  69.\n",
      "  70.  71.  72.  73.  74.  75.  76.  77.  78.  79.  80.  81.  82.  83.\n",
      "  84.  85.  86.  87.  88.  89.  90.  91.  92.  93.  94.  95.  96.  97.\n",
      "  98.  99. 100.]\n",
      "y= [ 23.07692064  20.58992863  22.10335623  -9.52679658  -9.53952836\n",
      "  33.46426931  47.80459285  27.47616005  19.43694662  46.74428942\n",
      "  48.9195607    3.685391    25.20941988  22.61437779  36.0818207\n",
      "  35.54438378  43.09682853  43.98436897  66.66113002  56.00510163\n",
      "  72.73623091  56.49502311  60.45615397  73.74422635  84.27173644\n",
      "  70.11561154  63.13489189  51.69333602  68.55317779 101.98481592\n",
      "  78.58195206  94.10186636 102.64274299  91.50323487  91.69828113\n",
      " 112.10763274  87.61528517 100.32421181 119.8965709  115.09710985\n",
      " 106.76405683 141.6376351  105.30907433 126.50416934 159.87001104\n",
      " 121.57294495 144.1225498  141.92008572 164.30860422 139.52828315\n",
      " 157.92919931 157.02277384 150.12067941 174.41628806 136.29362274\n",
      " 175.74750525 171.4445761  167.72554256 201.91954719 155.8124024\n",
      " 183.37136649 219.616405   183.59192238 166.96647194 207.25900348\n",
      " 195.58937146 195.56985174 201.2533275  210.17048238 216.7882165\n",
      " 204.81335792 209.44271851 205.15619405 214.90621569 234.3672298\n",
      " 216.8309348  269.20372529 226.37914213 244.94907814 200.18267031\n",
      " 232.68801879 236.49273727 256.15251407 238.49078561 262.27593235\n",
      " 268.64596973 257.45035307 268.85819862 260.66609466 258.52117056\n",
      " 248.09079602 256.60741771 286.29626983 278.68146955 269.67861589\n",
      " 297.59796951 284.55491792 268.53656025 273.49094345 309.58756044\n",
      " 298.20976228]\n",
      "y_hat= [  0.5   3.5   6.5   9.5  12.5  15.5  18.5  21.5  24.5  27.5  30.5  33.5\n",
      "  36.5  39.5  42.5  45.5  48.5  51.5  54.5  57.5  60.5  63.5  66.5  69.5\n",
      "  72.5  75.5  78.5  81.5  84.5  87.5  90.5  93.5  96.5  99.5 102.5 105.5\n",
      " 108.5 111.5 114.5 117.5 120.5 123.5 126.5 129.5 132.5 135.5 138.5 141.5\n",
      " 144.5 147.5 150.5 153.5 156.5 159.5 162.5 165.5 168.5 171.5 174.5 177.5\n",
      " 180.5 183.5 186.5 189.5 192.5 195.5 198.5 201.5 204.5 207.5 210.5 213.5\n",
      " 216.5 219.5 222.5 225.5 228.5 231.5 234.5 237.5 240.5 243.5 246.5 249.5\n",
      " 252.5 255.5 258.5 261.5 264.5 267.5 270.5 273.5 276.5 279.5 282.5 285.5\n",
      " 288.5 291.5 294.5 297.5 300.5]\n"
     ]
    }
   ],
   "source": [
    "# 計算y的平均值\n",
    "# 確認y的值跟y的總數\n",
    "# y_hat 預測函數\n",
    "mean_y = np.mean(y)\n",
    "print(mean_y)\n",
    "length_y = len(y)\n",
    "print(length_y)\n",
    "print(\"x_lin=\",x_lin)\n",
    "print(\"y=\",y)\n",
    "print(\"y_hat=\",y_hat)"
   ]
  },
  {
   "cell_type": "code",
   "execution_count": 84,
   "metadata": {},
   "outputs": [
    {
     "name": "stdout",
     "output_type": "stream",
     "text": [
      "The Mean squared error is 219.349\n",
      "The std of y is 87.745\n"
     ]
    }
   ],
   "source": [
    "# 執行 Function, 確認有沒有正常執行\n",
    "MSE = mean_squared_error(y, y_hat)\n",
    "#MAE = mean_absolute_error(y, y_hat)\n",
    "print(\"The Mean squared error is %.3f\" % (MSE))\n",
    "#print(\"The Mean absolute error is %.3f\" % (MAE))\n",
    "print(\"The std of y is %.3f\"% y_std)\n",
    "# 每次執行完整程式結果會不一樣,因為y是random產生"
   ]
  },
  {
   "cell_type": "code",
   "execution_count": null,
   "metadata": {},
   "outputs": [],
   "source": []
  },
  {
   "cell_type": "code",
   "execution_count": null,
   "metadata": {},
   "outputs": [],
   "source": []
  }
 ],
 "metadata": {
  "anaconda-cloud": {},
  "kernelspec": {
   "display_name": "Python 3",
   "language": "python",
   "name": "python3"
  },
  "language_info": {
   "codemirror_mode": {
    "name": "ipython",
    "version": 3
   },
   "file_extension": ".py",
   "mimetype": "text/x-python",
   "name": "python",
   "nbconvert_exporter": "python",
   "pygments_lexer": "ipython3",
   "version": "3.7.1"
  }
 },
 "nbformat": 4,
 "nbformat_minor": 1
}
