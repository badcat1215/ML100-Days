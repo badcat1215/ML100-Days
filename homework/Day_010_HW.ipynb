{
 "cells": [
  {
   "cell_type": "code",
   "execution_count": 1,
   "metadata": {},
   "outputs": [],
   "source": [
    "# Import 需要的套件\n",
    "import os\n",
    "import numpy as np\n",
    "import pandas as pd\n",
    "\n",
    "import matplotlib.pyplot as plt\n",
    "%matplotlib inline"
   ]
  },
  {
   "cell_type": "code",
   "execution_count": 2,
   "metadata": {},
   "outputs": [],
   "source": [
    "# 設定 data_path\n",
    "dir_data = '../Part01/'\n",
    "f_app_train = os.path.join(dir_data, 'application_train.csv')\n",
    "f_app_test = os.path.join(dir_data, 'application_test.csv')\n",
    "\n",
    "app_train = pd.read_csv(f_app_train)\n",
    "app_test = pd.read_csv(f_app_test)\n",
    "\n",
    "from sklearn.preprocessing import LabelEncoder\n",
    "\n",
    "# Create a label encoder object\n",
    "le = LabelEncoder()\n",
    "le_count = 0\n",
    "\n",
    "# Iterate through the columns\n",
    "for col in app_train:\n",
    "    if app_train[col].dtype == 'object':\n",
    "        # If 2 or fewer unique categories\n",
    "        if len(list(app_train[col].unique())) <= 2:\n",
    "            # Train on the training data\n",
    "            le.fit(app_train[col])\n",
    "            # Transform both training and testing data\n",
    "            app_train[col] = le.transform(app_train[col])\n",
    "            app_test[col] = le.transform(app_test[col])\n",
    "            \n",
    "            # Keep track of how many columns were label encoded\n",
    "            le_count += 1\n",
    "            \n",
    "app_train = pd.get_dummies(app_train)\n",
    "app_test = pd.get_dummies(app_test)\n",
    "\n",
    "# Create an anomalous flag column\n",
    "app_train['DAYS_EMPLOYED_ANOM'] = app_train[\"DAYS_EMPLOYED\"] == 365243\n",
    "app_train['DAYS_EMPLOYED'].replace({365243: np.nan}, inplace = True)\n",
    "# also apply to testing dataset\n",
    "app_test['DAYS_EMPLOYED_ANOM'] = app_test[\"DAYS_EMPLOYED\"] == 365243\n",
    "app_test[\"DAYS_EMPLOYED\"].replace({365243: np.nan}, inplace = True)\n",
    "\n",
    "# absolute the value of DAYS_BIRTH\n",
    "app_train['DAYS_BIRTH'] = abs(app_train['DAYS_BIRTH'])\n",
    "app_test['DAYS_BIRTH'] = abs(app_test['DAYS_BIRTH'])"
   ]
  },
  {
   "cell_type": "markdown",
   "metadata": {},
   "source": [
    "### 相關係數\n",
    "一樣，pandas 很貼心地讓我們可以非常容易計算相關係數"
   ]
  },
  {
   "cell_type": "code",
   "execution_count": 8,
   "metadata": {},
   "outputs": [],
   "source": [
    "Corr_of_TARGET = app_train.corr()['TARGET'].sort_values()"
   ]
  },
  {
   "cell_type": "markdown",
   "metadata": {},
   "source": [
    "# 練習時間\n",
    "列出目標 (TARGET) 與所有欄位之間相關係數，數值最大以及最小各 15 個\n",
    "\n",
    "通過相關係數的結果觀察有興趣的欄位與 TARGET 或其他欄位的相關係數，並嘗試找出有趣的訊息\n",
    "- 最好的方式當然是畫圖，舉例來說，我們知道  EXT_SOURCE_3 這個欄位和 TARGET 之間的相關係數是 -0.178919 (在已經這個資料集已經是最負的了！)，那我們可以 EXT_SOURCE_3  為 x 軸， TARGET 為 y 軸，把資料給畫出來"
   ]
  },
  {
   "cell_type": "code",
   "execution_count": 9,
   "metadata": {},
   "outputs": [
    {
     "data": {
      "text/plain": [
       "EXT_SOURCE_3                           -0.178919\n",
       "EXT_SOURCE_2                           -0.160472\n",
       "EXT_SOURCE_1                           -0.155317\n",
       "DAYS_BIRTH                             -0.078239\n",
       "NAME_EDUCATION_TYPE_Higher education   -0.056593\n",
       "CODE_GENDER_F                          -0.054704\n",
       "NAME_INCOME_TYPE_Pensioner             -0.046209\n",
       "ORGANIZATION_TYPE_XNA                  -0.045987\n",
       "DAYS_EMPLOYED_ANOM                     -0.045987\n",
       "FLOORSMAX_AVG                          -0.044003\n",
       "FLOORSMAX_MEDI                         -0.043768\n",
       "FLOORSMAX_MODE                         -0.043226\n",
       "EMERGENCYSTATE_MODE_No                 -0.042201\n",
       "HOUSETYPE_MODE_block of flats          -0.040594\n",
       "AMT_GOODS_PRICE                        -0.039645\n",
       "Name: TARGET, dtype: float64"
      ]
     },
     "execution_count": 9,
     "metadata": {},
     "output_type": "execute_result"
    }
   ],
   "source": [
    "#相關性最小的15個\n",
    "Corr_of_TARGET.head(15)"
   ]
  },
  {
   "cell_type": "code",
   "execution_count": 10,
   "metadata": {},
   "outputs": [
    {
     "data": {
      "text/plain": [
       "DAYS_REGISTRATION                                    0.041975\n",
       "OCCUPATION_TYPE_Laborers                             0.043019\n",
       "FLAG_DOCUMENT_3                                      0.044346\n",
       "REG_CITY_NOT_LIVE_CITY                               0.044395\n",
       "FLAG_EMP_PHONE                                       0.045982\n",
       "NAME_EDUCATION_TYPE_Secondary / secondary special    0.049824\n",
       "REG_CITY_NOT_WORK_CITY                               0.050994\n",
       "DAYS_ID_PUBLISH                                      0.051457\n",
       "CODE_GENDER_M                                        0.054713\n",
       "DAYS_LAST_PHONE_CHANGE                               0.055218\n",
       "NAME_INCOME_TYPE_Working                             0.057481\n",
       "REGION_RATING_CLIENT                                 0.058899\n",
       "REGION_RATING_CLIENT_W_CITY                          0.060893\n",
       "DAYS_EMPLOYED                                        0.074958\n",
       "TARGET                                               1.000000\n",
       "Name: TARGET, dtype: float64"
      ]
     },
     "execution_count": 10,
     "metadata": {},
     "output_type": "execute_result"
    }
   ],
   "source": [
    "#相關性最高的15個\n",
    "Corr_of_TARGET.tail(15)"
   ]
  },
  {
   "cell_type": "code",
   "execution_count": 15,
   "metadata": {},
   "outputs": [
    {
     "data": {
      "image/png": "[encoded data removed]",
      "text/plain": [
       "<Figure size 432x288 with 1 Axes>"
      ]
     },
     "metadata": {
      "needs_background": "light"
     },
     "output_type": "display_data"
    }
   ],
   "source": [
    "#fmt = '[color][marker][line]'\n",
    "#g. 'g'表示綠色 '.'表示point\n",
    "plt.plot(app_train['EXT_SOURCE_3'], app_train['TARGET'],'g.')\n",
    "plt.xlabel('EXT_SOURCE_3')\n",
    "plt.ylabel('TARGET')\n",
    "plt.show()"
   ]
  },
  {
   "cell_type": "code",
   "execution_count": 19,
   "metadata": {},
   "outputs": [
    {
     "data": {
      "text/plain": [
       "<matplotlib.axes._subplots.AxesSubplot at 0x2f20079a9b0>"
      ]
     },
     "execution_count": 19,
     "metadata": {},
     "output_type": "execute_result"
    },
    {
     "data": {
      "image/png": "[encoded data removed]",
      "text/plain": [
       "<Figure size 432x288 with 1 Axes>"
      ]
     },
     "metadata": {
      "needs_background": "light"
     },
     "output_type": "display_data"
    }
   ],
   "source": [
    "app_train.boxplot(column= 'EXT_SOURCE_3', by = 'TARGET' )"
   ]
  },
  {
   "cell_type": "code",
   "execution_count": null,
   "metadata": {},
   "outputs": [],
   "source": []
  }
 ],
 "metadata": {
  "kernelspec": {
   "display_name": "Python 3",
   "language": "python",
   "name": "python3"
  },
  "language_info": {
   "codemirror_mode": {
    "name": "ipython",
    "version": 3
   },
   "file_extension": ".py",
   "mimetype": "text/x-python",
   "name": "python",
   "nbconvert_exporter": "python",
   "pygments_lexer": "ipython3",
   "version": "3.7.1"
  }
 },
 "nbformat": 4,
 "nbformat_minor": 2
}
