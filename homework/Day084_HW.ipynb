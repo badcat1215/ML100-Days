{
 "cells": [
  {
   "cell_type": "markdown",
   "metadata": {},
   "source": [
    "## Work\n",
    "請結合前面的知識與程式碼，比較不同的 regularization 的組合對訓練的結果與影響：如 dropout, regularizers, batch-normalization 等"
   ]
  },
  {
   "cell_type": "code",
   "execution_count": 42,
   "metadata": {},
   "outputs": [],
   "source": [
    "import os\n",
    "import keras\n",
    "import itertools\n",
    "from keras.layers import Dropout\n",
    "from keras.regularizers import l1, l2, l1_l2\n",
    "from keras.layers import BatchNormalization, Activation\n",
    "# Disable GPU\n",
    "os.environ[\"CUDA_VISIBLE_DEVICES\"] = \"\""
   ]
  },
  {
   "cell_type": "code",
   "execution_count": 43,
   "metadata": {},
   "outputs": [],
   "source": [
    "train, test = keras.datasets.cifar10.load_data()"
   ]
  },
  {
   "cell_type": "code",
   "execution_count": 44,
   "metadata": {},
   "outputs": [],
   "source": [
    "## 資料前處理\n",
    "def preproc_x(x, flatten=True):\n",
    "    x = x / 255.\n",
    "    if flatten:\n",
    "        x = x.reshape((len(x), -1))\n",
    "    return x\n",
    "\n",
    "def preproc_y(y, num_classes=10):\n",
    "    if y.shape[-1] == 1:\n",
    "        y = keras.utils.to_categorical(y, num_classes)\n",
    "    return y    "
   ]
  },
  {
   "cell_type": "code",
   "execution_count": 45,
   "metadata": {},
   "outputs": [],
   "source": [
    "x_train, y_train = train\n",
    "x_test, y_test = test\n",
    "\n",
    "# Preproc the inputs\n",
    "x_train = preproc_x(x_train)\n",
    "x_test = preproc_x(x_test)\n",
    "\n",
    "# Preprc the outputs\n",
    "y_train = preproc_y(y_train)\n",
    "y_test = preproc_y(y_test)"
   ]
  },
  {
   "cell_type": "code",
   "execution_count": 46,
   "metadata": {},
   "outputs": [],
   "source": [
    "# Hint 1 : 在 Dense 層中增加 Regularizers\n",
    "# Hint 2 : 增加 Dropout 層並設定 dropout ratio \n",
    "# Hint 3 : 增加 Batch-normalization 層\n",
    "def build_mlp(input_shape, drp_ratio, l_ratio, output_units=10, num_neurons=[512, 256, 128]):\n",
    "    input_layer = keras.layers.Input(input_shape)\n",
    "    \n",
    "    for i, n_units in enumerate(num_neurons):\n",
    "        if i == 0:\n",
    "            x = keras.layers.Dense(units=n_units, \n",
    "                                   activation=\"relu\", \n",
    "                                   name=\"hidden_layer\"+str(i+1),\n",
    "                                   kernel_regularizer=l1(l_ratio))(input_layer)\n",
    "            x = BatchNormalization()(x)\n",
    "            x = Dropout(drp_ratio)(x)\n",
    "            \n",
    "        else:\n",
    "            x = keras.layers.Dense(units=n_units, \n",
    "                                   activation=\"relu\", \n",
    "                                   name=\"hidden_layer\"+str(i+1),\n",
    "                                   kernel_regularizer=l1(l_ratio))(x)\n",
    "            x = BatchNormalization()(x)\n",
    "            x = Dropout(drp_ratio)(x)\n",
    "    \n",
    "    out = keras.layers.Dense(units=output_units, activation=\"softmax\", name=\"output\")(x)\n",
    "    \n",
    "    model = keras.models.Model(inputs=[input_layer], outputs=[out])\n",
    "    return model"
   ]
  },
  {
   "cell_type": "code",
   "execution_count": 47,
   "metadata": {},
   "outputs": [],
   "source": [
    "## 超參數設定\n",
    "LEARNING_RATE = 1e-3\n",
    "EPOCHS = 50\n",
    "BATCH_SIZE = 256\n",
    "MOMENTUM = 0.95\n",
    "Droouot_EXP = 0.3\n",
    "L_EXP = 0.001"
   ]
  },
  {
   "cell_type": "code",
   "execution_count": 48,
   "metadata": {
    "scrolled": true
   },
   "outputs": [
    {
     "name": "stdout",
     "output_type": "stream",
     "text": [
      "_________________________________________________________________\n",
      "Layer (type)                 Output Shape              Param #   \n",
      "=================================================================\n",
      "input_6 (InputLayer)         (None, 3072)              0         \n",
      "_________________________________________________________________\n",
      "hidden_layer1 (Dense)        (None, 512)               1573376   \n",
      "_________________________________________________________________\n",
      "batch_normalization_8 (Batch (None, 512)               2048      \n",
      "_________________________________________________________________\n",
      "dropout_7 (Dropout)          (None, 512)               0         \n",
      "_________________________________________________________________\n",
      "hidden_layer2 (Dense)        (None, 256)               131328    \n",
      "_________________________________________________________________\n",
      "batch_normalization_9 (Batch (None, 256)               1024      \n",
      "_________________________________________________________________\n",
      "dropout_8 (Dropout)          (None, 256)               0         \n",
      "_________________________________________________________________\n",
      "hidden_layer3 (Dense)        (None, 128)               32896     \n",
      "_________________________________________________________________\n",
      "batch_normalization_10 (Batc (None, 128)               512       \n",
      "_________________________________________________________________\n",
      "dropout_9 (Dropout)          (None, 128)               0         \n",
      "_________________________________________________________________\n",
      "output (Dense)               (None, 10)                1290      \n",
      "=================================================================\n",
      "Total params: 1,742,474\n",
      "Trainable params: 1,740,682\n",
      "Non-trainable params: 1,792\n",
      "_________________________________________________________________\n",
      "Train on 50000 samples, validate on 10000 samples\n",
      "Epoch 1/50\n",
      "50000/50000 [==============================] - 8s 166us/step - loss: 39.6453 - acc: 0.2524 - val_loss: 36.0462 - val_acc: 0.3332\n",
      "Epoch 2/50\n",
      "50000/50000 [==============================] - 7s 141us/step - loss: 33.0833 - acc: 0.3290 - val_loss: 29.9617 - val_acc: 0.3778\n",
      "Epoch 3/50\n",
      "50000/50000 [==============================] - 7s 142us/step - loss: 27.3514 - acc: 0.3593 - val_loss: 24.6270 - val_acc: 0.3963\n",
      "Epoch 4/50\n",
      "50000/50000 [==============================] - 7s 145us/step - loss: 22.2834 - acc: 0.3857 - val_loss: 19.9211 - val_acc: 0.4063\n",
      "Epoch 5/50\n",
      "50000/50000 [==============================] - 7s 142us/step - loss: 17.8936 - acc: 0.3947 - val_loss: 15.8968 - val_acc: 0.3986\n",
      "Epoch 6/50\n",
      "50000/50000 [==============================] - 8s 156us/step - loss: 14.1569 - acc: 0.4002 - val_loss: 12.5279 - val_acc: 0.3841\n",
      "Epoch 7/50\n",
      "50000/50000 [==============================] - 8s 153us/step - loss: 11.0673 - acc: 0.3963 - val_loss: 9.9103 - val_acc: 0.3213\n",
      "Epoch 8/50\n",
      "50000/50000 [==============================] - 8s 151us/step - loss: 8.6488 - acc: 0.3869 - val_loss: 7.9319 - val_acc: 0.3019\n",
      "Epoch 9/50\n",
      "50000/50000 [==============================] - 8s 160us/step - loss: 6.8176 - acc: 0.3792 - val_loss: 6.8106 - val_acc: 0.2469\n",
      "Epoch 10/50\n",
      "50000/50000 [==============================] - 8s 157us/step - loss: 5.5739 - acc: 0.3780 - val_loss: 5.4781 - val_acc: 0.3005\n",
      "Epoch 11/50\n",
      "50000/50000 [==============================] - 8s 152us/step - loss: 4.8332 - acc: 0.3862 - val_loss: 4.9162 - val_acc: 0.2671\n",
      "Epoch 12/50\n",
      "50000/50000 [==============================] - 7s 144us/step - loss: 4.4714 - acc: 0.3871 - val_loss: 4.8261 - val_acc: 0.2696\n",
      "Epoch 13/50\n",
      "50000/50000 [==============================] - 7s 144us/step - loss: 4.1300 - acc: 0.3874 - val_loss: 4.2281 - val_acc: 0.3013\n",
      "Epoch 14/50\n",
      "50000/50000 [==============================] - 7s 145us/step - loss: 3.8163 - acc: 0.3896 - val_loss: 4.0063 - val_acc: 0.2759\n",
      "Epoch 15/50\n",
      "50000/50000 [==============================] - 7s 146us/step - loss: 3.5555 - acc: 0.3916 - val_loss: 4.0146 - val_acc: 0.2103\n",
      "Epoch 16/50\n",
      "50000/50000 [==============================] - 7s 144us/step - loss: 3.2824 - acc: 0.3939 - val_loss: 3.3449 - val_acc: 0.3081\n",
      "Epoch 17/50\n",
      "50000/50000 [==============================] - 7s 147us/step - loss: 3.0736 - acc: 0.3974 - val_loss: 3.3120 - val_acc: 0.2754\n",
      "Epoch 18/50\n",
      "50000/50000 [==============================] - 7s 144us/step - loss: 2.8855 - acc: 0.3979 - val_loss: 3.1601 - val_acc: 0.2519\n",
      "Epoch 19/50\n",
      "50000/50000 [==============================] - 7s 142us/step - loss: 2.7191 - acc: 0.4045 - val_loss: 2.8225 - val_acc: 0.3174\n",
      "Epoch 20/50\n",
      "50000/50000 [==============================] - 7s 141us/step - loss: 2.6076 - acc: 0.4008 - val_loss: 3.1530 - val_acc: 0.2049\n",
      "Epoch 21/50\n",
      "50000/50000 [==============================] - 8s 153us/step - loss: 2.4981 - acc: 0.4027 - val_loss: 2.6649 - val_acc: 0.3232\n",
      "Epoch 22/50\n",
      "50000/50000 [==============================] - 7s 147us/step - loss: 2.4353 - acc: 0.4058 - val_loss: 2.7293 - val_acc: 0.2889\n",
      "Epoch 23/50\n",
      "50000/50000 [==============================] - 7s 140us/step - loss: 2.3724 - acc: 0.4084 - val_loss: 2.6792 - val_acc: 0.2761\n",
      "Epoch 24/50\n",
      "50000/50000 [==============================] - 7s 143us/step - loss: 2.3055 - acc: 0.4113 - val_loss: 2.6538 - val_acc: 0.2935\n",
      "Epoch 25/50\n",
      "50000/50000 [==============================] - 7s 142us/step - loss: 2.2642 - acc: 0.4140 - val_loss: 2.5010 - val_acc: 0.3022\n",
      "Epoch 26/50\n",
      "50000/50000 [==============================] - 7s 138us/step - loss: 2.2426 - acc: 0.4120 - val_loss: 2.4822 - val_acc: 0.3086\n",
      "Epoch 27/50\n",
      "50000/50000 [==============================] - 7s 138us/step - loss: 2.2070 - acc: 0.4167 - val_loss: 2.4118 - val_acc: 0.3275\n",
      "Epoch 28/50\n",
      "50000/50000 [==============================] - 7s 141us/step - loss: 2.1812 - acc: 0.4159 - val_loss: 2.5825 - val_acc: 0.2573\n",
      "Epoch 29/50\n",
      "50000/50000 [==============================] - 7s 138us/step - loss: 2.1886 - acc: 0.4157 - val_loss: 2.4667 - val_acc: 0.3187\n",
      "Epoch 30/50\n",
      "50000/50000 [==============================] - 7s 138us/step - loss: 2.1693 - acc: 0.4178 - val_loss: 2.2241 - val_acc: 0.3929\n",
      "Epoch 31/50\n",
      "50000/50000 [==============================] - 7s 138us/step - loss: 2.1680 - acc: 0.4136 - val_loss: 2.3911 - val_acc: 0.3395\n",
      "Epoch 32/50\n",
      "50000/50000 [==============================] - 7s 138us/step - loss: 2.1466 - acc: 0.4161 - val_loss: 2.4552 - val_acc: 0.3238\n",
      "Epoch 33/50\n",
      "50000/50000 [==============================] - 7s 138us/step - loss: 2.1358 - acc: 0.4144 - val_loss: 2.6767 - val_acc: 0.2444\n",
      "Epoch 34/50\n",
      "50000/50000 [==============================] - 7s 138us/step - loss: 2.1244 - acc: 0.4180 - val_loss: 2.2272 - val_acc: 0.3818\n",
      "Epoch 35/50\n",
      "50000/50000 [==============================] - 7s 138us/step - loss: 2.1279 - acc: 0.4174 - val_loss: 2.4584 - val_acc: 0.3034\n",
      "Epoch 36/50\n",
      "50000/50000 [==============================] - 7s 138us/step - loss: 2.1137 - acc: 0.4182 - val_loss: 2.2218 - val_acc: 0.3745\n",
      "Epoch 37/50\n",
      "50000/50000 [==============================] - 7s 140us/step - loss: 2.1124 - acc: 0.4206 - val_loss: 2.6086 - val_acc: 0.2467\n",
      "Epoch 38/50\n",
      "50000/50000 [==============================] - 7s 139us/step - loss: 2.1115 - acc: 0.4199 - val_loss: 2.4690 - val_acc: 0.3472\n",
      "Epoch 39/50\n",
      "50000/50000 [==============================] - 7s 138us/step - loss: 2.1282 - acc: 0.4167 - val_loss: 2.3012 - val_acc: 0.3571\n",
      "Epoch 40/50\n",
      "50000/50000 [==============================] - 7s 138us/step - loss: 2.1418 - acc: 0.4147 - val_loss: 2.3539 - val_acc: 0.3183\n",
      "Epoch 41/50\n",
      "50000/50000 [==============================] - 7s 138us/step - loss: 2.1215 - acc: 0.4178 - val_loss: 2.4138 - val_acc: 0.3002\n",
      "Epoch 42/50\n",
      "50000/50000 [==============================] - 7s 145us/step - loss: 2.1061 - acc: 0.4229 - val_loss: 2.2524 - val_acc: 0.3522\n",
      "Epoch 43/50\n",
      "50000/50000 [==============================] - 8s 153us/step - loss: 2.1008 - acc: 0.4275 - val_loss: 2.3599 - val_acc: 0.3571\n",
      "Epoch 44/50\n",
      "50000/50000 [==============================] - 7s 145us/step - loss: 2.0966 - acc: 0.4268 - val_loss: 2.4630 - val_acc: 0.3096\n",
      "Epoch 45/50\n",
      "50000/50000 [==============================] - 8s 151us/step - loss: 2.0822 - acc: 0.4286 - val_loss: 2.3081 - val_acc: 0.3202\n",
      "Epoch 46/50\n"
     ]
    },
    {
     "name": "stdout",
     "output_type": "stream",
     "text": [
      "50000/50000 [==============================] - 8s 154us/step - loss: 2.0975 - acc: 0.4241 - val_loss: 2.3571 - val_acc: 0.3501\n",
      "Epoch 47/50\n",
      "50000/50000 [==============================] - 7s 142us/step - loss: 2.0949 - acc: 0.4254 - val_loss: 2.2622 - val_acc: 0.3559\n",
      "Epoch 48/50\n",
      "50000/50000 [==============================] - 7s 141us/step - loss: 2.1107 - acc: 0.4183 - val_loss: 2.3354 - val_acc: 0.3408\n",
      "Epoch 49/50\n",
      "50000/50000 [==============================] - 7s 141us/step - loss: 2.0897 - acc: 0.4264 - val_loss: 2.1856 - val_acc: 0.4041\n",
      "Epoch 50/50\n",
      "50000/50000 [==============================] - 7s 140us/step - loss: 2.0773 - acc: 0.4295 - val_loss: 2.3117 - val_acc: 0.3599\n"
     ]
    }
   ],
   "source": [
    "model = build_mlp(input_shape=x_train.shape[1:], drp_ratio=Droouot_EXP, l_ratio=L_EXP)\n",
    "model.summary()\n",
    "optimizer = keras.optimizers.SGD(lr=LEARNING_RATE, nesterov=True, momentum=MOMENTUM)\n",
    "model.compile(loss=\"categorical_crossentropy\", metrics=[\"accuracy\"], optimizer=optimizer)\n",
    "\n",
    "model.fit(x_train, y_train, \n",
    "          epochs=EPOCHS, \n",
    "          batch_size=BATCH_SIZE, \n",
    "          validation_data=(x_test, y_test), \n",
    "          shuffle=True)\n",
    "\n",
    "# Collect results\n",
    "train_loss = model.history.history[\"loss\"]\n",
    "valid_loss = model.history.history[\"val_loss\"]\n",
    "train_acc = model.history.history[\"acc\"]\n",
    "valid_acc = model.history.history[\"val_acc\"]"
   ]
  },
  {
   "cell_type": "code",
   "execution_count": 50,
   "metadata": {},
   "outputs": [
    {
     "data": {
      "image/png": "[encoded data removed]",
      "text/plain": [
       "<Figure size 432x288 with 1 Axes>"
      ]
     },
     "metadata": {
      "needs_background": "light"
     },
     "output_type": "display_data"
    },
    {
     "data": {
      "image/png": "[encoded data removed]",
      "text/plain": [
       "<Figure size 432x288 with 1 Axes>"
      ]
     },
     "metadata": {
      "needs_background": "light"
     },
     "output_type": "display_data"
    }
   ],
   "source": [
    "import matplotlib.pyplot as plt\n",
    "%matplotlib inline\n",
    "\n",
    "plt.plot(range(len(train_loss)), train_loss, label=\"train loss\")\n",
    "plt.plot(range(len(valid_loss)), valid_loss, label=\"valid loss\")\n",
    "plt.legend()\n",
    "plt.title(\"Loss\")\n",
    "plt.show()\n",
    "\n",
    "plt.plot(range(len(train_acc)), train_acc, label=\"train accuracy\")\n",
    "plt.plot(range(len(valid_acc)), valid_acc, label=\"valid accuracy\")\n",
    "plt.legend()\n",
    "plt.title(\"Accuracy\")\n",
    "plt.show()\n"
   ]
  },
  {
   "cell_type": "code",
   "execution_count": null,
   "metadata": {},
   "outputs": [],
   "source": []
  }
 ],
 "metadata": {
  "kernelspec": {
   "display_name": "Python 3",
   "language": "python",
   "name": "python3"
  },
  "language_info": {
   "codemirror_mode": {
    "name": "ipython",
    "version": 3
   },
   "file_extension": ".py",
   "mimetype": "text/x-python",
   "name": "python",
   "nbconvert_exporter": "python",
   "pygments_lexer": "ipython3",
   "version": "3.7.1"
  }
 },
 "nbformat": 4,
 "nbformat_minor": 2
}
